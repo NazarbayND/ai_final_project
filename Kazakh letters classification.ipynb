{
 "cells": [
  {
   "cell_type": "markdown",
   "metadata": {
    "id": "SKxfaAQjrdcc"
   },
   "source": [
    "## Read and show images as matrix and as a picture"
   ]
  },
  {
   "cell_type": "code",
   "execution_count": 2,
   "metadata": {
    "id": "IfK46bQyrdcn"
   },
   "outputs": [],
   "source": [
    "from __future__ import division, print_function, unicode_literals"
   ]
  },
  {
   "cell_type": "code",
   "execution_count": 1,
   "metadata": {
    "scrolled": true
   },
   "outputs": [
    {
     "name": "stdout",
     "output_type": "stream",
     "text": [
      "Collecting tensorflow==2.4.1\n",
      "\u001b[33m  WARNING: Retrying (Retry(total=4, connect=None, read=None, redirect=None, status=None)) after connection broken by 'ReadTimeoutError(\"HTTPSConnectionPool(host='files.pythonhosted.org', port=443): Read timed out. (read timeout=15)\",)': /packages/c2/14/3724e7316a065b79174b10e34471e21ebb6896efbb82f689651584e6f5da/tensorflow-2.4.1-cp36-cp36m-manylinux2010_x86_64.whl\u001b[0m\n",
      "  Downloading tensorflow-2.4.1-cp36-cp36m-manylinux2010_x86_64.whl (394.3 MB)\n",
      "\u001b[K     |███████████████████████▎        | 286.8 MB 133.7 MB/s eta 0:00:01"
     ]
    },
    {
     "name": "stderr",
     "output_type": "stream",
     "text": [
      "IOPub data rate exceeded.\n",
      "The notebook server will temporarily stop sending output\n",
      "to the client in order to avoid crashing it.\n",
      "To change this limit, set the config variable\n",
      "`--NotebookApp.iopub_data_rate_limit`.\n",
      "\n",
      "Current values:\n",
      "NotebookApp.iopub_data_rate_limit=1000000.0 (bytes/sec)\n",
      "NotebookApp.rate_limit_window=3.0 (secs)\n",
      "\n"
     ]
    },
    {
     "name": "stdout",
     "output_type": "stream",
     "text": [
      "\u001b[K     |████████████████████████████████| 394.3 MB 82 kB/s \n",
      "\u001b[?25hRequirement already satisfied: absl-py~=0.10 in /usr/local/lib/python3.6/dist-packages (from tensorflow==2.4.1) (0.12.0)\n",
      "Requirement already satisfied: six~=1.15.0 in /usr/local/lib/python3.6/dist-packages (from tensorflow==2.4.1) (1.15.0)\n",
      "Requirement already satisfied: numpy~=1.19.2 in /usr/local/lib/python3.6/dist-packages (from tensorflow==2.4.1) (1.19.5)\n",
      "Requirement already satisfied: keras-preprocessing~=1.1.2 in /usr/local/lib/python3.6/dist-packages (from tensorflow==2.4.1) (1.1.2)\n",
      "Requirement already satisfied: opt-einsum~=3.3.0 in /usr/local/lib/python3.6/dist-packages (from tensorflow==2.4.1) (3.3.0)\n",
      "Collecting grpcio~=1.32.0\n",
      "  Downloading grpcio-1.32.0-cp36-cp36m-manylinux2014_x86_64.whl (3.8 MB)\n",
      "\u001b[K     |████████████████████████████████| 3.8 MB 108.2 MB/s eta 0:00:01\n",
      "\u001b[?25hRequirement already satisfied: typing-extensions~=3.7.4 in /usr/local/lib/python3.6/dist-packages (from tensorflow==2.4.1) (3.7.4.3)\n",
      "Requirement already satisfied: google-pasta~=0.2 in /usr/local/lib/python3.6/dist-packages (from tensorflow==2.4.1) (0.2.0)\n",
      "Requirement already satisfied: astunparse~=1.6.3 in /usr/local/lib/python3.6/dist-packages (from tensorflow==2.4.1) (1.6.3)\n",
      "Requirement already satisfied: wrapt~=1.12.1 in /usr/local/lib/python3.6/dist-packages (from tensorflow==2.4.1) (1.12.1)\n",
      "Requirement already satisfied: protobuf>=3.9.2 in /usr/local/lib/python3.6/dist-packages (from tensorflow==2.4.1) (3.17.0)\n",
      "Requirement already satisfied: wheel~=0.35 in /usr/local/lib/python3.6/dist-packages (from tensorflow==2.4.1) (0.36.2)\n",
      "Collecting tensorflow-estimator<2.5.0,>=2.4.0\n",
      "  Downloading tensorflow_estimator-2.4.0-py2.py3-none-any.whl (462 kB)\n",
      "\u001b[K     |████████████████████████████████| 462 kB 58.9 MB/s eta 0:00:01\n",
      "\u001b[?25hRequirement already satisfied: termcolor~=1.1.0 in /usr/local/lib/python3.6/dist-packages (from tensorflow==2.4.1) (1.1.0)\n",
      "Requirement already satisfied: tensorboard~=2.4 in /usr/local/lib/python3.6/dist-packages (from tensorflow==2.4.1) (2.5.0)\n",
      "Collecting gast==0.3.3\n",
      "  Downloading gast-0.3.3-py2.py3-none-any.whl (9.7 kB)\n",
      "Requirement already satisfied: flatbuffers~=1.12.0 in /usr/local/lib/python3.6/dist-packages (from tensorflow==2.4.1) (1.12)\n",
      "Collecting h5py~=2.10.0\n",
      "  Downloading h5py-2.10.0-cp36-cp36m-manylinux1_x86_64.whl (2.9 MB)\n",
      "\u001b[K     |████████████████████████████████| 2.9 MB 43.4 MB/s eta 0:00:01\n",
      "\u001b[?25hRequirement already satisfied: tensorboard-plugin-wit>=1.6.0 in /usr/local/lib/python3.6/dist-packages (from tensorboard~=2.4->tensorflow==2.4.1) (1.8.0)\n",
      "Requirement already satisfied: tensorboard-data-server<0.7.0,>=0.6.0 in /usr/local/lib/python3.6/dist-packages (from tensorboard~=2.4->tensorflow==2.4.1) (0.6.1)\n",
      "Requirement already satisfied: werkzeug>=0.11.15 in /usr/local/lib/python3.6/dist-packages (from tensorboard~=2.4->tensorflow==2.4.1) (2.0.0)\n",
      "Requirement already satisfied: markdown>=2.6.8 in /usr/local/lib/python3.6/dist-packages (from tensorboard~=2.4->tensorflow==2.4.1) (3.3.4)\n",
      "Requirement already satisfied: google-auth<2,>=1.6.3 in /usr/local/lib/python3.6/dist-packages (from tensorboard~=2.4->tensorflow==2.4.1) (1.30.0)\n",
      "Requirement already satisfied: requests<3,>=2.21.0 in /usr/local/lib/python3.6/dist-packages (from tensorboard~=2.4->tensorflow==2.4.1) (2.25.1)\n",
      "Requirement already satisfied: google-auth-oauthlib<0.5,>=0.4.1 in /usr/local/lib/python3.6/dist-packages (from tensorboard~=2.4->tensorflow==2.4.1) (0.4.4)\n",
      "Requirement already satisfied: setuptools>=41.0.0 in /usr/local/lib/python3.6/dist-packages (from tensorboard~=2.4->tensorflow==2.4.1) (56.2.0)\n",
      "Requirement already satisfied: dataclasses; python_version < \"3.7\" in /usr/local/lib/python3.6/dist-packages (from werkzeug>=0.11.15->tensorboard~=2.4->tensorflow==2.4.1) (0.8)\n",
      "Requirement already satisfied: importlib-metadata; python_version < \"3.8\" in /usr/local/lib/python3.6/dist-packages (from markdown>=2.6.8->tensorboard~=2.4->tensorflow==2.4.1) (4.0.1)\n",
      "Requirement already satisfied: pyasn1-modules>=0.2.1 in /usr/local/lib/python3.6/dist-packages (from google-auth<2,>=1.6.3->tensorboard~=2.4->tensorflow==2.4.1) (0.2.8)\n",
      "Requirement already satisfied: cachetools<5.0,>=2.0.0 in /usr/local/lib/python3.6/dist-packages (from google-auth<2,>=1.6.3->tensorboard~=2.4->tensorflow==2.4.1) (4.2.2)\n",
      "Requirement already satisfied: rsa<5,>=3.1.4; python_version >= \"3.6\" in /usr/local/lib/python3.6/dist-packages (from google-auth<2,>=1.6.3->tensorboard~=2.4->tensorflow==2.4.1) (4.7.2)\n",
      "Requirement already satisfied: idna<3,>=2.5 in /usr/lib/python3/dist-packages (from requests<3,>=2.21.0->tensorboard~=2.4->tensorflow==2.4.1) (2.6)\n",
      "Requirement already satisfied: urllib3<1.27,>=1.21.1 in /usr/local/lib/python3.6/dist-packages (from requests<3,>=2.21.0->tensorboard~=2.4->tensorflow==2.4.1) (1.26.4)\n",
      "Requirement already satisfied: certifi>=2017.4.17 in /usr/local/lib/python3.6/dist-packages (from requests<3,>=2.21.0->tensorboard~=2.4->tensorflow==2.4.1) (2020.12.5)\n",
      "Requirement already satisfied: chardet<5,>=3.0.2 in /usr/local/lib/python3.6/dist-packages (from requests<3,>=2.21.0->tensorboard~=2.4->tensorflow==2.4.1) (4.0.0)\n",
      "Requirement already satisfied: requests-oauthlib>=0.7.0 in /usr/local/lib/python3.6/dist-packages (from google-auth-oauthlib<0.5,>=0.4.1->tensorboard~=2.4->tensorflow==2.4.1) (1.3.0)\n",
      "Requirement already satisfied: zipp>=0.5 in /usr/local/lib/python3.6/dist-packages (from importlib-metadata; python_version < \"3.8\"->markdown>=2.6.8->tensorboard~=2.4->tensorflow==2.4.1) (3.4.1)\n",
      "Requirement already satisfied: pyasn1<0.5.0,>=0.4.6 in /usr/local/lib/python3.6/dist-packages (from pyasn1-modules>=0.2.1->google-auth<2,>=1.6.3->tensorboard~=2.4->tensorflow==2.4.1) (0.4.8)\n",
      "Requirement already satisfied: oauthlib>=3.0.0 in /usr/local/lib/python3.6/dist-packages (from requests-oauthlib>=0.7.0->google-auth-oauthlib<0.5,>=0.4.1->tensorboard~=2.4->tensorflow==2.4.1) (3.1.0)\n",
      "Installing collected packages: grpcio, tensorflow-estimator, gast, h5py, tensorflow\n",
      "  Attempting uninstall: grpcio\n",
      "    Found existing installation: grpcio 1.34.1\n",
      "    Uninstalling grpcio-1.34.1:\n",
      "      Successfully uninstalled grpcio-1.34.1\n",
      "  Attempting uninstall: tensorflow-estimator\n",
      "    Found existing installation: tensorflow-estimator 2.5.0rc0\n",
      "    Uninstalling tensorflow-estimator-2.5.0rc0:\n",
      "      Successfully uninstalled tensorflow-estimator-2.5.0rc0\n",
      "  Attempting uninstall: gast\n",
      "    Found existing installation: gast 0.4.0\n",
      "    Uninstalling gast-0.4.0:\n",
      "      Successfully uninstalled gast-0.4.0\n",
      "  Attempting uninstall: h5py\n",
      "    Found existing installation: h5py 3.1.0\n",
      "    Uninstalling h5py-3.1.0:\n",
      "      Successfully uninstalled h5py-3.1.0\n",
      "  Attempting uninstall: tensorflow\n",
      "    Found existing installation: tensorflow 2.5.0\n",
      "    Uninstalling tensorflow-2.5.0:\n",
      "      Successfully uninstalled tensorflow-2.5.0\n",
      "Successfully installed gast-0.3.3 grpcio-1.32.0 h5py-2.10.0 tensorflow-2.4.1 tensorflow-estimator-2.4.0\n",
      "\u001b[33mWARNING: You are using pip version 20.2.4; however, version 21.1.1 is available.\n",
      "You should consider upgrading via the '/usr/bin/python3 -m pip install --upgrade pip' command.\u001b[0m\n"
     ]
    }
   ],
   "source": [
    "!pip install tensorflow==2.4.1"
   ]
  },
  {
   "cell_type": "code",
   "execution_count": 4,
   "metadata": {},
   "outputs": [
    {
     "name": "stdout",
     "output_type": "stream",
     "text": [
      "Collecting pandas\n",
      "  Downloading pandas-1.1.5-cp36-cp36m-manylinux1_x86_64.whl (9.5 MB)\n",
      "\u001b[K     |████████████████████████████████| 9.5 MB 12.5 MB/s eta 0:00:01\n",
      "\u001b[?25hRequirement already satisfied: pytz>=2017.2 in /usr/local/lib/python3.6/dist-packages (from pandas) (2021.1)\n",
      "Requirement already satisfied: python-dateutil>=2.7.3 in /usr/local/lib/python3.6/dist-packages (from pandas) (2.8.1)\n",
      "Requirement already satisfied: numpy>=1.15.4 in /usr/local/lib/python3.6/dist-packages (from pandas) (1.19.5)\n",
      "Requirement already satisfied: six>=1.5 in /usr/local/lib/python3.6/dist-packages (from python-dateutil>=2.7.3->pandas) (1.15.0)\n",
      "Installing collected packages: pandas\n",
      "Successfully installed pandas-1.1.5\n",
      "\u001b[33mWARNING: You are using pip version 20.2.4; however, version 21.1.1 is available.\n",
      "You should consider upgrading via the '/usr/bin/python3 -m pip install --upgrade pip' command.\u001b[0m\n",
      "Collecting sklearn\n",
      "  Downloading sklearn-0.0.tar.gz (1.1 kB)\n",
      "Collecting scikit-learn\n",
      "  Downloading scikit_learn-0.24.2-cp36-cp36m-manylinux2010_x86_64.whl (22.2 MB)\n",
      "\u001b[K     |████████████████████████████████| 22.2 MB 12.1 MB/s eta 0:00:01\n",
      "\u001b[?25hCollecting scipy>=0.19.1\n",
      "  Downloading scipy-1.5.4-cp36-cp36m-manylinux1_x86_64.whl (25.9 MB)\n",
      "\u001b[K     |████████████████████████████████| 25.9 MB 24.0 MB/s eta 0:00:01\n",
      "\u001b[?25hCollecting threadpoolctl>=2.0.0\n",
      "  Downloading threadpoolctl-2.1.0-py3-none-any.whl (12 kB)\n",
      "Collecting joblib>=0.11\n",
      "  Downloading joblib-1.0.1-py3-none-any.whl (303 kB)\n",
      "\u001b[K     |████████████████████████████████| 303 kB 108.7 MB/s eta 0:00:01\n",
      "\u001b[?25hRequirement already satisfied: numpy>=1.13.3 in /usr/local/lib/python3.6/dist-packages (from scikit-learn->sklearn) (1.19.5)\n",
      "Building wheels for collected packages: sklearn\n",
      "  Building wheel for sklearn (setup.py) ... \u001b[?25ldone\n",
      "\u001b[?25h  Created wheel for sklearn: filename=sklearn-0.0-py2.py3-none-any.whl size=1316 sha256=7dcbee0064b84a9328e3e4b59858483b98c1384aac78d825c0c80601662d66df\n",
      "  Stored in directory: /root/.cache/pip/wheels/23/9d/42/5ec745cbbb17517000a53cecc49d6a865450d1f5cb16dc8a9c\n",
      "Successfully built sklearn\n",
      "Installing collected packages: scipy, threadpoolctl, joblib, scikit-learn, sklearn\n",
      "Successfully installed joblib-1.0.1 scikit-learn-0.24.2 scipy-1.5.4 sklearn-0.0 threadpoolctl-2.1.0\n",
      "\u001b[33mWARNING: You are using pip version 20.2.4; however, version 21.1.1 is available.\n",
      "You should consider upgrading via the '/usr/bin/python3 -m pip install --upgrade pip' command.\u001b[0m\n",
      "Collecting scikit-image\n",
      "  Downloading scikit_image-0.17.2-cp36-cp36m-manylinux1_x86_64.whl (12.4 MB)\n",
      "\u001b[K     |████████████████████████████████| 12.4 MB 13.2 MB/s eta 0:00:01\n",
      "\u001b[?25hRequirement already satisfied: numpy>=1.15.1 in /usr/local/lib/python3.6/dist-packages (from scikit-image) (1.19.5)\n",
      "Collecting matplotlib!=3.0.0,>=2.0.0\n",
      "  Downloading matplotlib-3.3.4-cp36-cp36m-manylinux1_x86_64.whl (11.5 MB)\n",
      "\u001b[K     |████████████████████████████████| 11.5 MB 125.3 MB/s eta 0:00:01\n",
      "\u001b[?25hRequirement already satisfied: scipy>=1.0.1 in /usr/local/lib/python3.6/dist-packages (from scikit-image) (1.5.4)\n",
      "Collecting imageio>=2.3.0\n",
      "  Downloading imageio-2.9.0-py3-none-any.whl (3.3 MB)\n",
      "\u001b[K     |████████████████████████████████| 3.3 MB 132.6 MB/s eta 0:00:01\n",
      "\u001b[?25hCollecting pillow!=7.1.0,!=7.1.1,>=4.3.0\n",
      "  Downloading Pillow-8.2.0-cp36-cp36m-manylinux1_x86_64.whl (3.0 MB)\n",
      "\u001b[K     |████████████████████████████████| 3.0 MB 31.2 MB/s eta 0:00:01\n",
      "\u001b[?25hCollecting networkx>=2.0\n",
      "  Downloading networkx-2.5.1-py3-none-any.whl (1.6 MB)\n",
      "\u001b[K     |████████████████████████████████| 1.6 MB 123.3 MB/s eta 0:00:01\n",
      "\u001b[?25hCollecting PyWavelets>=1.1.1\n",
      "  Downloading PyWavelets-1.1.1-cp36-cp36m-manylinux1_x86_64.whl (4.4 MB)\n",
      "\u001b[K     |████████████████████████████████| 4.4 MB 119.5 MB/s eta 0:00:01\n",
      "\u001b[?25hCollecting tifffile>=2019.7.26\n",
      "  Downloading tifffile-2020.9.3-py3-none-any.whl (148 kB)\n",
      "\u001b[K     |████████████████████████████████| 148 kB 141.0 MB/s eta 0:00:01\n",
      "\u001b[?25hCollecting cycler>=0.10\n",
      "  Downloading cycler-0.10.0-py2.py3-none-any.whl (6.5 kB)\n",
      "Requirement already satisfied: pyparsing!=2.0.4,!=2.1.2,!=2.1.6,>=2.0.3 in /usr/local/lib/python3.6/dist-packages (from matplotlib!=3.0.0,>=2.0.0->scikit-image) (2.4.7)\n",
      "Collecting kiwisolver>=1.0.1\n",
      "  Downloading kiwisolver-1.3.1-cp36-cp36m-manylinux1_x86_64.whl (1.1 MB)\n",
      "\u001b[K     |████████████████████████████████| 1.1 MB 88.4 MB/s eta 0:00:01\n",
      "\u001b[?25hRequirement already satisfied: python-dateutil>=2.1 in /usr/local/lib/python3.6/dist-packages (from matplotlib!=3.0.0,>=2.0.0->scikit-image) (2.8.1)\n",
      "Collecting decorator<5,>=4.3\n",
      "  Downloading decorator-4.4.2-py2.py3-none-any.whl (9.2 kB)\n",
      "Requirement already satisfied: six in /usr/local/lib/python3.6/dist-packages (from cycler>=0.10->matplotlib!=3.0.0,>=2.0.0->scikit-image) (1.15.0)\n",
      "Installing collected packages: pillow, cycler, kiwisolver, matplotlib, imageio, decorator, networkx, PyWavelets, tifffile, scikit-image\n",
      "  Attempting uninstall: decorator\n",
      "    Found existing installation: decorator 5.0.9\n",
      "    Uninstalling decorator-5.0.9:\n",
      "      Successfully uninstalled decorator-5.0.9\n",
      "Successfully installed PyWavelets-1.1.1 cycler-0.10.0 decorator-4.4.2 imageio-2.9.0 kiwisolver-1.3.1 matplotlib-3.3.4 networkx-2.5.1 pillow-8.2.0 scikit-image-0.17.2 tifffile-2020.9.3\n",
      "\u001b[33mWARNING: You are using pip version 20.2.4; however, version 21.1.1 is available.\n",
      "You should consider upgrading via the '/usr/bin/python3 -m pip install --upgrade pip' command.\u001b[0m\n",
      "Collecting keras\n",
      "  Downloading Keras-2.4.3-py2.py3-none-any.whl (36 kB)\n",
      "Collecting pyyaml\n",
      "  Downloading PyYAML-5.4.1-cp36-cp36m-manylinux1_x86_64.whl (640 kB)\n",
      "\u001b[K     |████████████████████████████████| 640 kB 17.3 MB/s eta 0:00:01\n",
      "\u001b[?25hRequirement already satisfied: numpy>=1.9.1 in /usr/local/lib/python3.6/dist-packages (from keras) (1.19.5)\n",
      "Requirement already satisfied: scipy>=0.14 in /usr/local/lib/python3.6/dist-packages (from keras) (1.5.4)\n",
      "Requirement already satisfied: h5py in /usr/local/lib/python3.6/dist-packages (from keras) (2.10.0)\n",
      "Requirement already satisfied: six in /usr/local/lib/python3.6/dist-packages (from h5py->keras) (1.15.0)\n",
      "Installing collected packages: pyyaml, keras\n",
      "Successfully installed keras-2.4.3 pyyaml-5.4.1\n",
      "\u001b[33mWARNING: You are using pip version 20.2.4; however, version 21.1.1 is available.\n",
      "You should consider upgrading via the '/usr/bin/python3 -m pip install --upgrade pip' command.\u001b[0m\n"
     ]
    }
   ],
   "source": [
    "!pip install pandas\n",
    "!pip install sklearn\n",
    "!pip install scikit-image\n",
    "!pip install keras"
   ]
  },
  {
   "cell_type": "code",
   "execution_count": 12,
   "metadata": {},
   "outputs": [
    {
     "name": "stdout",
     "output_type": "stream",
     "text": [
      "Collecting albumentations\n",
      "  Downloading albumentations-0.5.2-py3-none-any.whl (72 kB)\n",
      "\u001b[K     |████████████████████████████████| 72 kB 548 kB/s  eta 0:00:01\n",
      "\u001b[?25hCollecting imgaug>=0.4.0\n",
      "  Downloading imgaug-0.4.0-py2.py3-none-any.whl (948 kB)\n",
      "\u001b[K     |████████████████████████████████| 948 kB 28.5 MB/s eta 0:00:01\n",
      "\u001b[?25hCollecting opencv-python-headless>=4.1.1\n",
      "  Downloading opencv_python_headless-4.5.2.52-cp36-cp36m-manylinux2014_x86_64.whl (38.2 MB)\n",
      "\u001b[K     |████████████████████████████████| 38.2 MB 66.7 MB/s eta 0:00:01\n",
      "\u001b[?25hRequirement already satisfied: PyYAML in /usr/local/lib/python3.6/dist-packages (from albumentations) (5.4.1)\n",
      "Requirement already satisfied: numpy>=1.11.1 in /usr/local/lib/python3.6/dist-packages (from albumentations) (1.19.5)\n",
      "Requirement already satisfied: scikit-image>=0.16.1 in /usr/local/lib/python3.6/dist-packages (from albumentations) (0.17.2)\n",
      "Requirement already satisfied: scipy in /usr/local/lib/python3.6/dist-packages (from albumentations) (1.5.4)\n",
      "Collecting Shapely\n",
      "  Downloading Shapely-1.7.1-cp36-cp36m-manylinux1_x86_64.whl (1.0 MB)\n",
      "\u001b[K     |████████████████████████████████| 1.0 MB 30.3 MB/s eta 0:00:01\n",
      "\u001b[?25hRequirement already satisfied: Pillow in /usr/local/lib/python3.6/dist-packages (from imgaug>=0.4.0->albumentations) (8.2.0)\n",
      "Requirement already satisfied: six in /usr/local/lib/python3.6/dist-packages (from imgaug>=0.4.0->albumentations) (1.15.0)\n",
      "Requirement already satisfied: imageio in /usr/local/lib/python3.6/dist-packages (from imgaug>=0.4.0->albumentations) (2.9.0)\n",
      "Requirement already satisfied: matplotlib in /usr/local/lib/python3.6/dist-packages (from imgaug>=0.4.0->albumentations) (3.3.4)\n",
      "Requirement already satisfied: opencv-python in /usr/local/lib/python3.6/dist-packages (from imgaug>=0.4.0->albumentations) (4.5.2.52)\n",
      "Requirement already satisfied: tifffile>=2019.7.26 in /usr/local/lib/python3.6/dist-packages (from scikit-image>=0.16.1->albumentations) (2020.9.3)\n",
      "Requirement already satisfied: PyWavelets>=1.1.1 in /usr/local/lib/python3.6/dist-packages (from scikit-image>=0.16.1->albumentations) (1.1.1)\n",
      "Requirement already satisfied: networkx>=2.0 in /usr/local/lib/python3.6/dist-packages (from scikit-image>=0.16.1->albumentations) (2.5.1)\n",
      "Requirement already satisfied: python-dateutil>=2.1 in /usr/local/lib/python3.6/dist-packages (from matplotlib->imgaug>=0.4.0->albumentations) (2.8.1)\n",
      "Requirement already satisfied: pyparsing!=2.0.4,!=2.1.2,!=2.1.6,>=2.0.3 in /usr/local/lib/python3.6/dist-packages (from matplotlib->imgaug>=0.4.0->albumentations) (2.4.7)\n",
      "Requirement already satisfied: cycler>=0.10 in /usr/local/lib/python3.6/dist-packages (from matplotlib->imgaug>=0.4.0->albumentations) (0.10.0)\n",
      "Requirement already satisfied: kiwisolver>=1.0.1 in /usr/local/lib/python3.6/dist-packages (from matplotlib->imgaug>=0.4.0->albumentations) (1.3.1)\n",
      "Requirement already satisfied: decorator<5,>=4.3 in /usr/local/lib/python3.6/dist-packages (from networkx>=2.0->scikit-image>=0.16.1->albumentations) (4.4.2)\n",
      "Installing collected packages: Shapely, imgaug, opencv-python-headless, albumentations\n",
      "Successfully installed Shapely-1.7.1 albumentations-0.5.2 imgaug-0.4.0 opencv-python-headless-4.5.2.52\n",
      "\u001b[33mWARNING: You are using pip version 20.2.4; however, version 21.1.1 is available.\n",
      "You should consider upgrading via the '/usr/bin/python3 -m pip install --upgrade pip' command.\u001b[0m\n"
     ]
    }
   ],
   "source": [
    "!pip install albumentations"
   ]
  },
  {
   "cell_type": "code",
   "execution_count": 16,
   "metadata": {},
   "outputs": [
    {
     "name": "stdout",
     "output_type": "stream",
     "text": [
      "Collecting tensorflow==2.1\n",
      "  Downloading tensorflow-2.1.0-cp36-cp36m-manylinux2010_x86_64.whl (421.8 MB)\n",
      "\u001b[K     |████████████████████████        | 317.4 MB 116.5 MB/s eta 0:00:01"
     ]
    },
    {
     "name": "stderr",
     "output_type": "stream",
     "text": [
      "IOPub data rate exceeded.\n",
      "The notebook server will temporarily stop sending output\n",
      "to the client in order to avoid crashing it.\n",
      "To change this limit, set the config variable\n",
      "`--NotebookApp.iopub_data_rate_limit`.\n",
      "\n",
      "Current values:\n",
      "NotebookApp.iopub_data_rate_limit=1000000.0 (bytes/sec)\n",
      "NotebookApp.rate_limit_window=3.0 (secs)\n",
      "\n"
     ]
    },
    {
     "name": "stdout",
     "output_type": "stream",
     "text": [
      "\u001b[K     |████████████████████████████████| 421.8 MB 77 kB/s \n",
      "\u001b[?25hCollecting scipy==1.4.1; python_version >= \"3\"\n",
      "  Downloading scipy-1.4.1-cp36-cp36m-manylinux1_x86_64.whl (26.1 MB)\n",
      "\u001b[K     |████████████████████████████████| 26.1 MB 77.7 MB/s eta 0:00:01     |███████████████████████▌        | 19.2 MB 77.7 MB/s eta 0:00:01\n",
      "\u001b[?25hRequirement already satisfied: opt-einsum>=2.3.2 in /usr/local/lib/python3.6/dist-packages (from tensorflow==2.1) (3.3.0)\n",
      "Collecting astor>=0.6.0\n",
      "  Downloading astor-0.8.1-py2.py3-none-any.whl (27 kB)\n",
      "Requirement already satisfied: six>=1.12.0 in /usr/local/lib/python3.6/dist-packages (from tensorflow==2.1) (1.15.0)\n",
      "Requirement already satisfied: termcolor>=1.1.0 in /usr/local/lib/python3.6/dist-packages (from tensorflow==2.1) (1.1.0)\n",
      "Requirement already satisfied: grpcio>=1.8.6 in /usr/local/lib/python3.6/dist-packages (from tensorflow==2.1) (1.32.0)\n",
      "Requirement already satisfied: numpy<2.0,>=1.16.0 in /usr/local/lib/python3.6/dist-packages (from tensorflow==2.1) (1.19.5)\n",
      "Requirement already satisfied: wheel>=0.26; python_version >= \"3\" in /usr/local/lib/python3.6/dist-packages (from tensorflow==2.1) (0.36.2)\n",
      "Collecting tensorflow-estimator<2.2.0,>=2.1.0rc0\n",
      "  Downloading tensorflow_estimator-2.1.0-py2.py3-none-any.whl (448 kB)\n",
      "\u001b[K     |████████████████████████████████| 448 kB 78.5 MB/s eta 0:00:01\n",
      "\u001b[?25hCollecting keras-applications>=1.0.8\n",
      "  Downloading Keras_Applications-1.0.8-py3-none-any.whl (50 kB)\n",
      "\u001b[K     |████████████████████████████████| 50 kB 10.6 MB/s eta 0:00:01\n",
      "\u001b[?25hRequirement already satisfied: protobuf>=3.8.0 in /usr/local/lib/python3.6/dist-packages (from tensorflow==2.1) (3.17.0)\n",
      "Requirement already satisfied: absl-py>=0.7.0 in /usr/local/lib/python3.6/dist-packages (from tensorflow==2.1) (0.12.0)\n",
      "Requirement already satisfied: keras-preprocessing>=1.1.0 in /usr/local/lib/python3.6/dist-packages (from tensorflow==2.1) (1.1.2)\n",
      "Collecting tensorboard<2.2.0,>=2.1.0\n",
      "  Downloading tensorboard-2.1.1-py3-none-any.whl (3.8 MB)\n",
      "\u001b[K     |████████████████████████████████| 3.8 MB 45.7 MB/s eta 0:00:01\n",
      "\u001b[?25hRequirement already satisfied: google-pasta>=0.1.6 in /usr/local/lib/python3.6/dist-packages (from tensorflow==2.1) (0.2.0)\n",
      "Requirement already satisfied: wrapt>=1.11.1 in /usr/local/lib/python3.6/dist-packages (from tensorflow==2.1) (1.12.1)\n",
      "Collecting gast==0.2.2\n",
      "  Downloading gast-0.2.2.tar.gz (10 kB)\n",
      "Requirement already satisfied: h5py in /usr/local/lib/python3.6/dist-packages (from keras-applications>=1.0.8->tensorflow==2.1) (2.10.0)\n",
      "Requirement already satisfied: google-auth-oauthlib<0.5,>=0.4.1 in /usr/local/lib/python3.6/dist-packages (from tensorboard<2.2.0,>=2.1.0->tensorflow==2.1) (0.4.4)\n",
      "Requirement already satisfied: werkzeug>=0.11.15 in /usr/local/lib/python3.6/dist-packages (from tensorboard<2.2.0,>=2.1.0->tensorflow==2.1) (2.0.0)\n",
      "Requirement already satisfied: setuptools>=41.0.0 in /usr/local/lib/python3.6/dist-packages (from tensorboard<2.2.0,>=2.1.0->tensorflow==2.1) (56.2.0)\n",
      "Requirement already satisfied: markdown>=2.6.8 in /usr/local/lib/python3.6/dist-packages (from tensorboard<2.2.0,>=2.1.0->tensorflow==2.1) (3.3.4)\n",
      "Requirement already satisfied: google-auth<2,>=1.6.3 in /usr/local/lib/python3.6/dist-packages (from tensorboard<2.2.0,>=2.1.0->tensorflow==2.1) (1.30.0)\n",
      "Requirement already satisfied: requests<3,>=2.21.0 in /usr/local/lib/python3.6/dist-packages (from tensorboard<2.2.0,>=2.1.0->tensorflow==2.1) (2.25.1)\n",
      "Requirement already satisfied: requests-oauthlib>=0.7.0 in /usr/local/lib/python3.6/dist-packages (from google-auth-oauthlib<0.5,>=0.4.1->tensorboard<2.2.0,>=2.1.0->tensorflow==2.1) (1.3.0)\n",
      "Requirement already satisfied: dataclasses; python_version < \"3.7\" in /usr/local/lib/python3.6/dist-packages (from werkzeug>=0.11.15->tensorboard<2.2.0,>=2.1.0->tensorflow==2.1) (0.8)\n",
      "Requirement already satisfied: importlib-metadata; python_version < \"3.8\" in /usr/local/lib/python3.6/dist-packages (from markdown>=2.6.8->tensorboard<2.2.0,>=2.1.0->tensorflow==2.1) (4.0.1)\n",
      "Requirement already satisfied: rsa<5,>=3.1.4; python_version >= \"3.6\" in /usr/local/lib/python3.6/dist-packages (from google-auth<2,>=1.6.3->tensorboard<2.2.0,>=2.1.0->tensorflow==2.1) (4.7.2)\n",
      "Requirement already satisfied: cachetools<5.0,>=2.0.0 in /usr/local/lib/python3.6/dist-packages (from google-auth<2,>=1.6.3->tensorboard<2.2.0,>=2.1.0->tensorflow==2.1) (4.2.2)\n",
      "Requirement already satisfied: pyasn1-modules>=0.2.1 in /usr/local/lib/python3.6/dist-packages (from google-auth<2,>=1.6.3->tensorboard<2.2.0,>=2.1.0->tensorflow==2.1) (0.2.8)\n",
      "Requirement already satisfied: urllib3<1.27,>=1.21.1 in /usr/local/lib/python3.6/dist-packages (from requests<3,>=2.21.0->tensorboard<2.2.0,>=2.1.0->tensorflow==2.1) (1.26.4)\n",
      "Requirement already satisfied: chardet<5,>=3.0.2 in /usr/local/lib/python3.6/dist-packages (from requests<3,>=2.21.0->tensorboard<2.2.0,>=2.1.0->tensorflow==2.1) (4.0.0)\n",
      "Requirement already satisfied: certifi>=2017.4.17 in /usr/local/lib/python3.6/dist-packages (from requests<3,>=2.21.0->tensorboard<2.2.0,>=2.1.0->tensorflow==2.1) (2020.12.5)\n",
      "Requirement already satisfied: idna<3,>=2.5 in /usr/lib/python3/dist-packages (from requests<3,>=2.21.0->tensorboard<2.2.0,>=2.1.0->tensorflow==2.1) (2.6)\n",
      "Requirement already satisfied: oauthlib>=3.0.0 in /usr/local/lib/python3.6/dist-packages (from requests-oauthlib>=0.7.0->google-auth-oauthlib<0.5,>=0.4.1->tensorboard<2.2.0,>=2.1.0->tensorflow==2.1) (3.1.0)\n",
      "Requirement already satisfied: typing-extensions>=3.6.4; python_version < \"3.8\" in /usr/local/lib/python3.6/dist-packages (from importlib-metadata; python_version < \"3.8\"->markdown>=2.6.8->tensorboard<2.2.0,>=2.1.0->tensorflow==2.1) (3.7.4.3)\n",
      "Requirement already satisfied: zipp>=0.5 in /usr/local/lib/python3.6/dist-packages (from importlib-metadata; python_version < \"3.8\"->markdown>=2.6.8->tensorboard<2.2.0,>=2.1.0->tensorflow==2.1) (3.4.1)\n",
      "Requirement already satisfied: pyasn1>=0.1.3 in /usr/local/lib/python3.6/dist-packages (from rsa<5,>=3.1.4; python_version >= \"3.6\"->google-auth<2,>=1.6.3->tensorboard<2.2.0,>=2.1.0->tensorflow==2.1) (0.4.8)\n",
      "Building wheels for collected packages: gast\n",
      "  Building wheel for gast (setup.py) ... \u001b[?25ldone\n",
      "\u001b[?25h  Created wheel for gast: filename=gast-0.2.2-py3-none-any.whl size=7538 sha256=da4b780af1c018295782c87c0e1ca5130be35bd7be5027f8f95041d23ae1f74c\n",
      "  Stored in directory: /root/.cache/pip/wheels/19/a7/b9/0740c7a3a7d1d348f04823339274b90de25fbcd217b2ee1fbe\n",
      "Successfully built gast\n",
      "Installing collected packages: scipy, astor, tensorflow-estimator, keras-applications, tensorboard, gast, tensorflow\n",
      "  Attempting uninstall: scipy\n",
      "    Found existing installation: scipy 1.5.4\n",
      "    Uninstalling scipy-1.5.4:\n",
      "      Successfully uninstalled scipy-1.5.4\n",
      "  Attempting uninstall: tensorflow-estimator\n",
      "    Found existing installation: tensorflow-estimator 2.4.0\n",
      "    Uninstalling tensorflow-estimator-2.4.0:\n",
      "      Successfully uninstalled tensorflow-estimator-2.4.0\n",
      "  Attempting uninstall: tensorboard\n",
      "    Found existing installation: tensorboard 2.5.0\n",
      "    Uninstalling tensorboard-2.5.0:\n",
      "      Successfully uninstalled tensorboard-2.5.0\n",
      "  Attempting uninstall: gast\n",
      "    Found existing installation: gast 0.3.3\n",
      "    Uninstalling gast-0.3.3:\n",
      "      Successfully uninstalled gast-0.3.3\n",
      "  Attempting uninstall: tensorflow\n",
      "    Found existing installation: tensorflow 2.4.1\n",
      "    Uninstalling tensorflow-2.4.1:\n",
      "      Successfully uninstalled tensorflow-2.4.1\n",
      "Successfully installed astor-0.8.1 gast-0.2.2 keras-applications-1.0.8 scipy-1.4.1 tensorboard-2.1.1 tensorflow-2.1.0 tensorflow-estimator-2.1.0\n",
      "\u001b[33mWARNING: You are using pip version 20.2.4; however, version 21.1.1 is available.\n",
      "You should consider upgrading via the '/usr/bin/python3 -m pip install --upgrade pip' command.\u001b[0m\n"
     ]
    }
   ],
   "source": [
    "!pip install tensorflow==2.1"
   ]
  },
  {
   "cell_type": "code",
   "execution_count": 18,
   "metadata": {
    "id": "sOV9FptXrdco"
   },
   "outputs": [],
   "source": [
    "import os\n",
    "import random\n",
    "import numpy as np\n",
    "import pandas as pd\n",
    "import cv2\n",
    "import matplotlib.pyplot as plt\n",
    "\n",
    "import tensorflow as tf\n",
    "import albumentations as A\n",
    "import imgaug.augmenters as iaa\n",
    "from imgaug import parameters as iap\n",
    "from skimage.transform import resize\n",
    "#import keras\n",
    "from tensorflow.keras.preprocessing import image\n",
    "from keras.utils import to_categorical\n",
    "from PIL import Image\n",
    "import matplotlib.pyplot as plt\n",
    "from keras.preprocessing.image import ImageDataGenerator"
   ]
  },
  {
   "cell_type": "code",
   "execution_count": 19,
   "metadata": {
    "colab": {
     "base_uri": "https://localhost:8080/"
    },
    "id": "RMF05p9a-H-3",
    "outputId": "e51cd8aa-5194-4d7a-b7e4-782c5773c630"
   },
   "outputs": [
    {
     "name": "stdout",
     "output_type": "stream",
     "text": [
      "Collecting kaggle\n",
      "  Downloading kaggle-1.5.12.tar.gz (58 kB)\n",
      "\u001b[K     |████████████████████████████████| 58 kB 7.1 MB/s  eta 0:00:01\n",
      "\u001b[?25hRequirement already satisfied: six>=1.10 in /usr/local/lib/python3.6/dist-packages (from kaggle) (1.15.0)\n",
      "Requirement already satisfied: certifi in /usr/local/lib/python3.6/dist-packages (from kaggle) (2020.12.5)\n",
      "Requirement already satisfied: python-dateutil in /usr/local/lib/python3.6/dist-packages (from kaggle) (2.8.1)\n",
      "Requirement already satisfied: requests in /usr/local/lib/python3.6/dist-packages (from kaggle) (2.25.1)\n",
      "Collecting tqdm\n",
      "  Downloading tqdm-4.60.0-py2.py3-none-any.whl (75 kB)\n",
      "\u001b[K     |████████████████████████████████| 75 kB 4.0 MB/s  eta 0:00:01\n",
      "\u001b[?25hCollecting python-slugify\n",
      "  Downloading python_slugify-5.0.2-py2.py3-none-any.whl (6.7 kB)\n",
      "Requirement already satisfied: urllib3 in /usr/local/lib/python3.6/dist-packages (from kaggle) (1.26.4)\n",
      "Requirement already satisfied: idna<3,>=2.5 in /usr/lib/python3/dist-packages (from requests->kaggle) (2.6)\n",
      "Requirement already satisfied: chardet<5,>=3.0.2 in /usr/local/lib/python3.6/dist-packages (from requests->kaggle) (4.0.0)\n",
      "Collecting text-unidecode>=1.3\n",
      "  Downloading text_unidecode-1.3-py2.py3-none-any.whl (78 kB)\n",
      "\u001b[K     |████████████████████████████████| 78 kB 8.4 MB/s  eta 0:00:01\n",
      "\u001b[?25hBuilding wheels for collected packages: kaggle\n",
      "  Building wheel for kaggle (setup.py) ... \u001b[?25ldone\n",
      "\u001b[?25h  Created wheel for kaggle: filename=kaggle-1.5.12-py3-none-any.whl size=73053 sha256=086ae0b163ead5e824ae1262955964ae25b91b4effa49f07f916a2475b3091b0\n",
      "  Stored in directory: /root/.cache/pip/wheels/77/47/e4/44a4ba1b7dfd53faaa35f59f1175e123b213ff401a8a56876b\n",
      "Successfully built kaggle\n",
      "Installing collected packages: tqdm, text-unidecode, python-slugify, kaggle\n",
      "Successfully installed kaggle-1.5.12 python-slugify-5.0.2 text-unidecode-1.3 tqdm-4.60.0\n",
      "\u001b[33mWARNING: You are using pip version 20.2.4; however, version 21.1.1 is available.\n",
      "You should consider upgrading via the '/usr/bin/python3 -m pip install --upgrade pip' command.\u001b[0m\n"
     ]
    }
   ],
   "source": [
    "!pip install kaggle"
   ]
  },
  {
   "cell_type": "code",
   "execution_count": 20,
   "metadata": {
    "colab": {
     "base_uri": "https://localhost:8080/"
    },
    "id": "JmwI8IwU-JdJ",
    "outputId": "d4122579-7e66-446b-e2a4-7f12585c9a49"
   },
   "outputs": [
    {
     "name": "stdout",
     "output_type": "stream",
     "text": [
      "kaggle.json\r\n"
     ]
    }
   ],
   "source": [
    "!mkdir -p /root/.kaggle\n",
    "!cp kaggle.json /root/.kaggle\n",
    "!ls /root/.kaggle"
   ]
  },
  {
   "cell_type": "code",
   "execution_count": 23,
   "metadata": {
    "id": "kKbHLFjx_scN"
   },
   "outputs": [],
   "source": [
    "#run the folloiwng code only for the firts time\n",
    "!unzip -q kaz-letters.zip -d kaz-letters"
   ]
  },
  {
   "cell_type": "code",
   "execution_count": 24,
   "metadata": {
    "id": "1oHIyAIF_sw6"
   },
   "outputs": [],
   "source": [
    "#run the folloiwng code only for the firts time\n",
    "!rm -r  kaz-letters.zip "
   ]
  },
  {
   "cell_type": "code",
   "execution_count": 26,
   "metadata": {
    "id": "hHvKm7A3A9kF"
   },
   "outputs": [],
   "source": [
    "\n",
    "#run the folloiwng code only for the firts time\n",
    "!unzip -q /root/kaz-letters/Upper.tar -d /root/kaz-letters"
   ]
  },
  {
   "cell_type": "code",
   "execution_count": 89,
   "metadata": {
    "colab": {
     "base_uri": "https://localhost:8080/"
    },
    "id": "kFwWWCTLrdcz",
    "outputId": "1c80b7b5-bd05-4798-cea2-1319e9568df6"
   },
   "outputs": [
    {
     "name": "stdout",
     "output_type": "stream",
     "text": [
      "['А', 'Ә', 'Б', 'В', 'Г', 'Ғ', 'Д', 'Е', 'Ё', 'Ж', 'З', 'И', 'Й', 'К', 'Қ', 'Л', 'М', 'Н', 'Ң', 'О', 'Ө', 'П', 'Р', 'С', 'Т', 'У', 'Ұ', 'Ү', 'Ф', 'Х', 'Һ', 'Ц', 'Ч', 'Ш', 'Щ', 'Ъ', 'Ы', 'І', 'Ь', 'Э', 'Ю', 'Я']\n",
      "['а', 'ә', 'б', 'в', 'г', 'ғ', 'д', 'е', 'ё', 'ж', 'з', 'и', 'й', 'к', 'қ', 'л', 'м', 'н', 'ң', 'о', 'ө', 'п', 'р', 'с', 'т', 'у', 'ұ', 'ү', 'ф', 'х', 'һ', 'ц', 'ч', 'ш', 'щ', 'ъ', 'ы', 'і', 'ь', 'э', 'ю', 'я']\n"
     ]
    }
   ],
   "source": [
    "lower_path = '/root/kaz-letters/Lower/'\n",
    "upper_path = '/root/kaz-letters/Upper/'\n",
    "\n",
    "kazakh_alphabet_l = 'аәбвгғдеёжзийкқлмнңоөпрстуұүфхһцчшщъыіьэюя'\n",
    "kazakh_alphabet_u = 'АӘБВГҒДЕЁЖЗИЙКҚЛМНҢОӨПРСТУҰҮФХҺЦЧШЩЪЫІЬЭЮЯ'\n",
    "\n",
    "kazakh_alphabet_u=  [i for i in kazakh_alphabet_u]\n",
    "kazakh_alphabet_l = [i for i in kazakh_alphabet_l]\n",
    "\n",
    "print(kazakh_alphabet_u)\n",
    "print(kazakh_alphabet_l)"
   ]
  },
  {
   "cell_type": "code",
   "execution_count": 90,
   "metadata": {},
   "outputs": [],
   "source": [
    "kazakh_alphabet_u = ['А', 'Ә', 'Б', 'В', 'Г', 'Ғ', 'Д', 'Е', 'Ё', 'Ж', 'З', 'И', 'Й', 'К', 'Қ', 'Л', 'М', 'Н', 'Ң', 'О', 'Ө', 'П',\n",
    "                     'Р', 'С', 'Т', 'У', 'Ұ', 'Ү', 'Ф', 'Х', 'Һ', 'Ц', 'Ч', 'Ш', 'Щ', 'Ъ', 'Ы', 'І', 'Ь', 'Э', 'Ю', 'Я']"
   ]
  },
  {
   "cell_type": "code",
   "execution_count": 35,
   "metadata": {
    "colab": {
     "base_uri": "https://localhost:8080/",
     "height": 422
    },
    "id": "A5Qpm2E6rdc0",
    "outputId": "6e6e2516-3e59-49c3-eb67-085d941b2fc0"
   },
   "outputs": [
    {
     "name": "stdout",
     "output_type": "stream",
     "text": [
      "(784, 912)\n",
      "[[255 255 255 ...   0   0   0]\n",
      " [255 255 255 ...   0   0   0]\n",
      " [255 255 255 ...   0   0   0]\n",
      " ...\n",
      " [255 255 255 ... 255 255 255]\n",
      " [255 255 255 ... 255 255 255]\n",
      " [255 255 255 ... 255 255 255]]\n"
     ]
    },
    {
     "data": {
      "text/plain": [
       "<matplotlib.image.AxesImage at 0x7f61a051c2e8>"
      ]
     },
     "execution_count": 35,
     "metadata": {},
     "output_type": "execute_result"
    },
    {
     "data": {
      "image/png": "[encoded data removed]",
      "text/plain": [
       "<Figure size 432x288 with 1 Axes>"
      ]
     },
     "metadata": {
      "needs_background": "light"
     },
     "output_type": "display_data"
    }
   ],
   "source": [
    "img_array = cv2.imread('/root/kaz-letters/Lower/ғ/RandomCrop.png')\n",
    "print(img_array.T[0].shape)\n",
    "print(img_array.T[0])\n",
    "plt.imshow(img_array)"
   ]
  },
  {
   "cell_type": "code",
   "execution_count": 36,
   "metadata": {
    "colab": {
     "base_uri": "https://localhost:8080/",
     "height": 269
    },
    "id": "_4CKTun4rdc0",
    "outputId": "7b28c7e9-5e47-45a0-d25f-fd614daa35bb"
   },
   "outputs": [
    {
     "data": {
      "image/png": "[encoded data removed]",
      "text/plain": [
       "<Figure size 432x288 with 1 Axes>"
      ]
     },
     "metadata": {
      "needs_background": "light"
     },
     "output_type": "display_data"
    }
   ],
   "source": [
    "img_size = 170\n",
    "new_array = resize(img_array, (img_size, img_size))\n",
    "plt.imshow(new_array)\n",
    "plt.show()"
   ]
  },
  {
   "cell_type": "code",
   "execution_count": 37,
   "metadata": {
    "colab": {
     "base_uri": "https://localhost:8080/"
    },
    "id": "8OAQq6Whrdc1",
    "outputId": "f01590ef-e024-4810-fd12-e790e4f7262d"
   },
   "outputs": [
    {
     "data": {
      "text/plain": [
       "(170, 170, 3)"
      ]
     },
     "execution_count": 37,
     "metadata": {},
     "output_type": "execute_result"
    }
   ],
   "source": [
    "new_array.shape"
   ]
  },
  {
   "cell_type": "markdown",
   "metadata": {
    "id": "-AFoGyr1rdc2"
   },
   "source": [
    "## Save images as a matrix"
   ]
  },
  {
   "cell_type": "code",
   "execution_count": 70,
   "metadata": {
    "id": "o06WKih-rdc2"
   },
   "outputs": [
    {
     "ename": "FileNotFoundError",
     "evalue": "[Errno 2] No such file or directory: '/root/kazakh letters/Upper/А'",
     "output_type": "error",
     "traceback": [
      "\u001b[0;31m\u001b[0m",
      "\u001b[0;31mFileNotFoundError\u001b[0mTraceback (most recent call last)",
      "\u001b[0;32m<ipython-input-70-fe54b718d62d>\u001b[0m in \u001b[0;36m<module>\u001b[0;34m\u001b[0m\n\u001b[1;32m     32\u001b[0m \u001b[0;34m\u001b[0m\u001b[0m\n\u001b[1;32m     33\u001b[0m \u001b[0mimage_to_matrix_lower\u001b[0m\u001b[0;34m(\u001b[0m\u001b[0;34m)\u001b[0m\u001b[0;34m\u001b[0m\u001b[0;34m\u001b[0m\u001b[0m\n\u001b[0;32m---> 34\u001b[0;31m \u001b[0mimage_to_matrix_upper\u001b[0m\u001b[0;34m(\u001b[0m\u001b[0;34m)\u001b[0m\u001b[0;34m\u001b[0m\u001b[0;34m\u001b[0m\u001b[0m\n\u001b[0m",
      "\u001b[0;32m<ipython-input-70-fe54b718d62d>\u001b[0m in \u001b[0;36mimage_to_matrix_upper\u001b[0;34m()\u001b[0m\n\u001b[1;32m     22\u001b[0m         \u001b[0mclass_num\u001b[0m \u001b[0;34m=\u001b[0m \u001b[0mkazakh_alphabet_u\u001b[0m\u001b[0;34m.\u001b[0m\u001b[0mindex\u001b[0m\u001b[0;34m(\u001b[0m\u001b[0mcategory\u001b[0m\u001b[0;34m)\u001b[0m\u001b[0;34m+\u001b[0m\u001b[0;36m42\u001b[0m\u001b[0;34m\u001b[0m\u001b[0;34m\u001b[0m\u001b[0m\n\u001b[1;32m     23\u001b[0m         \u001b[0mlabel_upper_name\u001b[0m\u001b[0;34m[\u001b[0m\u001b[0mcategory\u001b[0m\u001b[0;34m]\u001b[0m \u001b[0;34m=\u001b[0m \u001b[0mclass_num\u001b[0m\u001b[0;34m\u001b[0m\u001b[0;34m\u001b[0m\u001b[0m\n\u001b[0;32m---> 24\u001b[0;31m         \u001b[0;32mfor\u001b[0m \u001b[0mimg\u001b[0m \u001b[0;32min\u001b[0m \u001b[0mos\u001b[0m\u001b[0;34m.\u001b[0m\u001b[0mlistdir\u001b[0m\u001b[0;34m(\u001b[0m\u001b[0mpath\u001b[0m\u001b[0;34m)\u001b[0m\u001b[0;34m:\u001b[0m\u001b[0;34m\u001b[0m\u001b[0;34m\u001b[0m\u001b[0m\n\u001b[0m\u001b[1;32m     25\u001b[0m             \u001b[0;32mtry\u001b[0m\u001b[0;34m:\u001b[0m\u001b[0;34m\u001b[0m\u001b[0;34m\u001b[0m\u001b[0m\n\u001b[1;32m     26\u001b[0m                 \u001b[0mimg_array\u001b[0m\u001b[0;34m=\u001b[0m \u001b[0mcv2\u001b[0m\u001b[0;34m.\u001b[0m\u001b[0mimread\u001b[0m\u001b[0;34m(\u001b[0m\u001b[0mos\u001b[0m\u001b[0;34m.\u001b[0m\u001b[0mpath\u001b[0m\u001b[0;34m.\u001b[0m\u001b[0mjoin\u001b[0m\u001b[0;34m(\u001b[0m\u001b[0mpath\u001b[0m\u001b[0;34m,\u001b[0m\u001b[0mimg\u001b[0m\u001b[0;34m)\u001b[0m\u001b[0;34m)\u001b[0m\u001b[0;34m\u001b[0m\u001b[0;34m\u001b[0m\u001b[0m\n",
      "\u001b[0;31mFileNotFoundError\u001b[0m: [Errno 2] No such file or directory: '/root/kazakh letters/Upper/А'"
     ]
    }
   ],
   "source": [
    "labeled_lower_data = []\n",
    "label_lower_name = {}\n",
    "labeled_upper_data = []\n",
    "label_upper_name = {}\n",
    "\n",
    "def image_to_matrix_lower():\n",
    "    for category in kazakh_alphabet_l:\n",
    "        path= os.path.join(lower_path+category)\n",
    "        class_num = kazakh_alphabet_l.index(category)\n",
    "        label_lower_name[category] = class_num\n",
    "        for img in os.listdir(path):\n",
    "            try:\n",
    "                img_array= cv2.imread(os.path.join(path,img))\n",
    "                new_array = resize(img_array, (img_size, img_size))\n",
    "                labeled_lower_data.append([new_array, class_num])\n",
    "            except Exception as e:\n",
    "                pass\n",
    "            \n",
    "            \n",
    "image_to_matrix_lower()\n"
   ]
  },
  {
   "cell_type": "code",
   "execution_count": 95,
   "metadata": {},
   "outputs": [],
   "source": [
    "def image_to_matrix_upper():\n",
    "    for category in kazakh_alphabet_u:\n",
    "        path= os.path.join(upper_path+category)\n",
    "        class_num = kazakh_alphabet_u.index(category)+42\n",
    "        label_upper_name[category] = class_num\n",
    "        for img in os.listdir(path):\n",
    "            try:\n",
    "                img_array= cv2.imread(os.path.join(path,img))\n",
    "                new_array = resize(img_array, (img_size, img_size))\n",
    "                labeled_upper_data.append([new_array, class_num])\n",
    "            except Exception as e:\n",
    "                pass \n",
    "            \n",
    "image_to_matrix_upper()"
   ]
  },
  {
   "cell_type": "code",
   "execution_count": 96,
   "metadata": {
    "colab": {
     "base_uri": "https://localhost:8080/"
    },
    "id": "rBfAKmPGrdc3",
    "outputId": "7f1f32d3-6289-47a6-cee7-6cc8855f48e7"
   },
   "outputs": [
    {
     "name": "stderr",
     "output_type": "stream",
     "text": [
      "/usr/local/lib/python3.6/dist-packages/ipykernel_launcher.py:1: VisibleDeprecationWarning: Creating an ndarray from ragged nested sequences (which is a list-or-tuple of lists-or-tuples-or ndarrays with different lengths or shapes) is deprecated. If you meant to do this, you must specify 'dtype=object' when creating the ndarray\n",
      "  \"\"\"Entry point for launching an IPython kernel.\n"
     ]
    },
    {
     "data": {
      "text/plain": [
       "42"
      ]
     },
     "execution_count": 96,
     "metadata": {},
     "output_type": "execute_result"
    }
   ],
   "source": [
    "np.array(labeled_upper_data)[4][1]"
   ]
  },
  {
   "cell_type": "code",
   "execution_count": 97,
   "metadata": {
    "colab": {
     "base_uri": "https://localhost:8080/",
     "height": 340
    },
    "id": "9eyLTm9JrddN",
    "outputId": "0ed71aba-3885-43f3-9499-4d2fe099edaa"
   },
   "outputs": [
    {
     "name": "stderr",
     "output_type": "stream",
     "text": [
      "/usr/local/lib/python3.6/dist-packages/ipykernel_launcher.py:1: VisibleDeprecationWarning: Creating an ndarray from ragged nested sequences (which is a list-or-tuple of lists-or-tuples-or ndarrays with different lengths or shapes) is deprecated. If you meant to do this, you must specify 'dtype=object' when creating the ndarray\n",
      "  \"\"\"Entry point for launching an IPython kernel.\n"
     ]
    },
    {
     "data": {
      "text/plain": [
       "<matplotlib.image.AxesImage at 0x7f619dd4b128>"
      ]
     },
     "execution_count": 97,
     "metadata": {},
     "output_type": "execute_result"
    },
    {
     "data": {
      "image/png": "[encoded data removed]",
      "text/plain": [
       "<Figure size 432x288 with 1 Axes>"
      ]
     },
     "metadata": {
      "needs_background": "light"
     },
     "output_type": "display_data"
    }
   ],
   "source": [
    "plt.imshow(np.array(labeled_upper_data)[4][0])"
   ]
  },
  {
   "cell_type": "markdown",
   "metadata": {
    "id": "wN_h8NIVrddN"
   },
   "source": [
    "## Split labeled data to train and test sets"
   ]
  },
  {
   "cell_type": "code",
   "execution_count": 98,
   "metadata": {
    "colab": {
     "base_uri": "https://localhost:8080/"
    },
    "id": "rOlFr9tMrddY",
    "outputId": "eba704e7-3f3b-4a93-97fe-679406338d6d"
   },
   "outputs": [
    {
     "name": "stdout",
     "output_type": "stream",
     "text": [
      "Sizes of upper and lower letter arrays seperately\n",
      "(2517, 2)\n",
      "(3775, 2)\n",
      "Joined image arrays into one array\n",
      "(6292, 2)\n"
     ]
    },
    {
     "name": "stderr",
     "output_type": "stream",
     "text": [
      "/usr/local/lib/python3.6/dist-packages/ipykernel_launcher.py:1: VisibleDeprecationWarning: Creating an ndarray from ragged nested sequences (which is a list-or-tuple of lists-or-tuples-or ndarrays with different lengths or shapes) is deprecated. If you meant to do this, you must specify 'dtype=object' when creating the ndarray\n",
      "  \"\"\"Entry point for launching an IPython kernel.\n",
      "/usr/local/lib/python3.6/dist-packages/ipykernel_launcher.py:2: VisibleDeprecationWarning: Creating an ndarray from ragged nested sequences (which is a list-or-tuple of lists-or-tuples-or ndarrays with different lengths or shapes) is deprecated. If you meant to do this, you must specify 'dtype=object' when creating the ndarray\n",
      "  \n"
     ]
    }
   ],
   "source": [
    "labeled_lower_data = np.array(labeled_lower_data)\n",
    "labeled_upper_data = np.array(labeled_upper_data)\n",
    "\n",
    "labeled_data = np.concatenate((labeled_lower_data, labeled_upper_data), axis=0)\n",
    "\n",
    "print(\"Sizes of upper and lower letter arrays seperately\")\n",
    "print(np.shape(labeled_lower_data))\n",
    "print(np.shape(labeled_upper_data))\n",
    "print(\"Joined image arrays into one array\")\n",
    "print(labeled_data.shape)"
   ]
  },
  {
   "cell_type": "code",
   "execution_count": 99,
   "metadata": {
    "id": "YFLB24EYrddZ"
   },
   "outputs": [],
   "source": [
    "import random \n",
    "random.seed(1)\n",
    "\n",
    "\n",
    "random.shuffle(labeled_data)\n",
    "\n",
    "X = []\n",
    "y = []\n",
    "for features, label in labeled_data:\n",
    "    features = resize(features, (img_size, img_size))\n",
    "    X.append(list(features))\n",
    "    y.append(label)\n",
    "\n",
    "X = np.array(X).reshape(-1, img_size, img_size,3)\n"
   ]
  },
  {
   "cell_type": "code",
   "execution_count": 101,
   "metadata": {
    "id": "cz34sT_MrddZ",
    "outputId": "a59d0b6a-6acd-447f-8641-cbf1f2ef94dd"
   },
   "outputs": [
    {
     "name": "stdout",
     "output_type": "stream",
     "text": [
      "(6292, 170, 170, 3) (6292,)\n"
     ]
    }
   ],
   "source": [
    "print(X.shape, np.shape(y))"
   ]
  },
  {
   "cell_type": "code",
   "execution_count": 102,
   "metadata": {
    "id": "OaqKq817rddk"
   },
   "outputs": [],
   "source": [
    "Y = np.array(y).reshape((-1,1))"
   ]
  },
  {
   "cell_type": "code",
   "execution_count": 103,
   "metadata": {
    "id": "_UrOU15qrddk"
   },
   "outputs": [],
   "source": [
    "Y = to_categorical(np.asarray(Y))"
   ]
  },
  {
   "cell_type": "code",
   "execution_count": 104,
   "metadata": {
    "id": "Lqw76rcqrddl"
   },
   "outputs": [],
   "source": [
    "from sklearn.model_selection import train_test_split\n",
    "x_train,x_test,y_train,y_test=train_test_split(X,Y,test_size=0.15,random_state=42)"
   ]
  },
  {
   "cell_type": "code",
   "execution_count": 105,
   "metadata": {
    "id": "HjbqhjPkrdd0",
    "outputId": "fb9c8b4e-26ea-48e7-80a8-be343f5c5ad2"
   },
   "outputs": [
    {
     "name": "stdout",
     "output_type": "stream",
     "text": [
      "(5348, 170, 170, 3) (944, 170, 170, 3)\n",
      "(5348, 84) (944, 84)\n"
     ]
    }
   ],
   "source": [
    "print(x_train.shape,x_test.shape)\n",
    "print(y_train.shape, y_test.shape)"
   ]
  },
  {
   "cell_type": "code",
   "execution_count": 106,
   "metadata": {
    "id": "z9SOQM2KrdeK",
    "outputId": "d0f88f39-3a5d-4bcb-d3e7-eb9865448b40"
   },
   "outputs": [
    {
     "data": {
      "text/plain": [
       "array([[0., 0., 0., ..., 0., 0., 0.],\n",
       "       [0., 0., 0., ..., 0., 0., 0.],\n",
       "       [0., 0., 0., ..., 0., 0., 0.],\n",
       "       ...,\n",
       "       [0., 0., 0., ..., 0., 0., 0.],\n",
       "       [0., 0., 0., ..., 0., 0., 0.],\n",
       "       [0., 0., 0., ..., 0., 0., 0.]], dtype=float32)"
      ]
     },
     "execution_count": 106,
     "metadata": {},
     "output_type": "execute_result"
    }
   ],
   "source": [
    "y_test"
   ]
  },
  {
   "cell_type": "code",
   "execution_count": 107,
   "metadata": {
    "id": "vqXNACj8rdeL",
    "outputId": "8fee5ccf-7f08-441f-be6d-46dee13ec237"
   },
   "outputs": [
    {
     "name": "stdout",
     "output_type": "stream",
     "text": [
      "0.0 1.0\n"
     ]
    }
   ],
   "source": [
    "print(x_train.min(), x_train.max())"
   ]
  },
  {
   "cell_type": "markdown",
   "metadata": {
    "id": "r29-EE3srdeL"
   },
   "source": [
    "# Main Part"
   ]
  },
  {
   "cell_type": "code",
   "execution_count": 295,
   "metadata": {
    "id": "R0Z9YtitrdeM"
   },
   "outputs": [],
   "source": [
    "from tensorflow.keras import backend as K\n",
    "from tensorflow.keras import activations\n",
    "from tensorflow.keras import utils\n",
    "from tensorflow.keras.models import Model\n",
    "from tensorflow.keras.layers import *\n",
    "from tensorflow.keras.preprocessing.image import ImageDataGenerator\n",
    "from tensorflow.keras.applications.vgg16 import VGG16, preprocess_input\n",
    "from tensorflow.keras.optimizers import RMSprop, Adam, SGD, Nadam\n",
    "from tensorflow.keras.preprocessing.image import ImageDataGenerator\n",
    "from tensorflow.keras.callbacks import ReduceLROnPlateau, ModelCheckpoint, EarlyStopping\n",
    "from tensorflow.keras import regularizers\n",
    "from tensorflow.keras.utils import to_categorical\n",
    "import tensorflow as tf\n",
    "import gc\n",
    "from tensorflow.keras import callbacks\n",
    "from sklearn.model_selection import KFold, StratifiedKFold"
   ]
  },
  {
   "cell_type": "code",
   "execution_count": 296,
   "metadata": {
    "id": "mn_CNqPKrdeX"
   },
   "outputs": [],
   "source": [
    "def squash(x, axis=-1):\n",
    "    s_squared_norm = K.sum(K.square(x), axis, keepdims=True) + K.epsilon()\n",
    "    scale = K.sqrt(s_squared_norm) / (0.5 + s_squared_norm)\n",
    "    return scale * x"
   ]
  },
  {
   "cell_type": "code",
   "execution_count": 297,
   "metadata": {
    "id": "6oWf2Elcrdej"
   },
   "outputs": [],
   "source": [
    "def softmax(x, axis=-1):\n",
    "    ex = K.exp(x - K.max(x, axis=axis, keepdims=True))\n",
    "    return ex / K.sum(ex, axis=axis, keepdims=True)"
   ]
  },
  {
   "cell_type": "code",
   "execution_count": 298,
   "metadata": {
    "id": "FEgt0As8rdej"
   },
   "outputs": [],
   "source": [
    "def margin_loss(y_true, y_pred):\n",
    "    lamb, margin = 0.5, 0.1 #default lambda 0.5 - but test with lambda with 0.9 - 0.1\n",
    "    return K.sum(y_true * K.square(K.relu(1 - margin - y_pred)) + lamb * (\n",
    "        1 - y_true) * K.square(K.relu(y_pred - margin)), axis=-1)"
   ]
  },
  {
   "cell_type": "code",
   "execution_count": 299,
   "metadata": {
    "id": "WPjKGoggrdel"
   },
   "outputs": [],
   "source": [
    "def create_submission(y_pred,y_test,path):\n",
    "    result = pd.DataFrame(\n",
    "        {'y_test':y_test,'y_predicted':y_pred}\n",
    "        )\n",
    "    result.to_csv(path, index=True)"
   ]
  },
  {
   "cell_type": "code",
   "execution_count": 300,
   "metadata": {
    "id": "nzNplLGFrdfU",
    "outputId": "9d9b27f7-4fdd-49b7-8072-14a03ffa12a4"
   },
   "outputs": [
    {
     "name": "stdout",
     "output_type": "stream",
     "text": [
      "Model: \"vgg16\"\n",
      "_________________________________________________________________\n",
      "Layer (type)                 Output Shape              Param #   \n",
      "=================================================================\n",
      "input_3 (InputLayer)         [(None, 170, 170, 3)]     0         \n",
      "_________________________________________________________________\n",
      "block1_conv1 (Conv2D)        (None, 170, 170, 64)      1792      \n",
      "_________________________________________________________________\n",
      "block1_conv2 (Conv2D)        (None, 170, 170, 64)      36928     \n",
      "_________________________________________________________________\n",
      "block1_pool (MaxPooling2D)   (None, 85, 85, 64)        0         \n",
      "_________________________________________________________________\n",
      "block2_conv1 (Conv2D)        (None, 85, 85, 128)       73856     \n",
      "_________________________________________________________________\n",
      "block2_conv2 (Conv2D)        (None, 85, 85, 128)       147584    \n",
      "_________________________________________________________________\n",
      "block2_pool (MaxPooling2D)   (None, 42, 42, 128)       0         \n",
      "_________________________________________________________________\n",
      "block3_conv1 (Conv2D)        (None, 42, 42, 256)       295168    \n",
      "_________________________________________________________________\n",
      "block3_conv2 (Conv2D)        (None, 42, 42, 256)       590080    \n",
      "_________________________________________________________________\n",
      "block3_conv3 (Conv2D)        (None, 42, 42, 256)       590080    \n",
      "_________________________________________________________________\n",
      "block3_pool (MaxPooling2D)   (None, 21, 21, 256)       0         \n",
      "_________________________________________________________________\n",
      "block4_conv1 (Conv2D)        (None, 21, 21, 512)       1180160   \n",
      "_________________________________________________________________\n",
      "block4_conv2 (Conv2D)        (None, 21, 21, 512)       2359808   \n",
      "_________________________________________________________________\n",
      "block4_conv3 (Conv2D)        (None, 21, 21, 512)       2359808   \n",
      "_________________________________________________________________\n",
      "block4_pool (MaxPooling2D)   (None, 10, 10, 512)       0         \n",
      "_________________________________________________________________\n",
      "block5_conv1 (Conv2D)        (None, 10, 10, 512)       2359808   \n",
      "_________________________________________________________________\n",
      "block5_conv2 (Conv2D)        (None, 10, 10, 512)       2359808   \n",
      "_________________________________________________________________\n",
      "block5_conv3 (Conv2D)        (None, 10, 10, 512)       2359808   \n",
      "_________________________________________________________________\n",
      "block5_pool (MaxPooling2D)   (None, 5, 5, 512)         0         \n",
      "=================================================================\n",
      "Total params: 14,714,688\n",
      "Trainable params: 14,714,688\n",
      "Non-trainable params: 0\n",
      "_________________________________________________________________\n"
     ]
    }
   ],
   "source": [
    "input_image = Input(shape=(img_size, img_size, 3))\n",
    "\n",
    "\n",
    "# A InceptionResNetV2 Conv2D model\n",
    "base_model = VGG16(include_top=False, weights='imagenet', input_tensor=input_image)\n",
    "\n",
    "base_model.summary()\n"
   ]
  },
  {
   "cell_type": "code",
   "execution_count": 301,
   "metadata": {},
   "outputs": [],
   "source": [
    "for layer in base_model.layers:\n",
    "    layer.trainable = False"
   ]
  },
  {
   "cell_type": "code",
   "execution_count": 302,
   "metadata": {
    "id": "5NSWqw_6rdf_",
    "outputId": "ed3a2514-973f-418c-84bf-449bd1a726aa"
   },
   "outputs": [
    {
     "name": "stdout",
     "output_type": "stream",
     "text": [
      "Model: \"model_2\"\n",
      "_________________________________________________________________\n",
      "Layer (type)                 Output Shape              Param #   \n",
      "=================================================================\n",
      "input_3 (InputLayer)         [(None, 170, 170, 3)]     0         \n",
      "_________________________________________________________________\n",
      "block1_conv1 (Conv2D)        (None, 170, 170, 64)      1792      \n",
      "_________________________________________________________________\n",
      "block1_conv2 (Conv2D)        (None, 170, 170, 64)      36928     \n",
      "_________________________________________________________________\n",
      "block1_pool (MaxPooling2D)   (None, 85, 85, 64)        0         \n",
      "_________________________________________________________________\n",
      "block2_conv1 (Conv2D)        (None, 85, 85, 128)       73856     \n",
      "_________________________________________________________________\n",
      "block2_conv2 (Conv2D)        (None, 85, 85, 128)       147584    \n",
      "_________________________________________________________________\n",
      "block2_pool (MaxPooling2D)   (None, 42, 42, 128)       0         \n",
      "_________________________________________________________________\n",
      "block3_conv1 (Conv2D)        (None, 42, 42, 256)       295168    \n",
      "_________________________________________________________________\n",
      "block3_conv2 (Conv2D)        (None, 42, 42, 256)       590080    \n",
      "_________________________________________________________________\n",
      "block3_conv3 (Conv2D)        (None, 42, 42, 256)       590080    \n",
      "_________________________________________________________________\n",
      "block3_pool (MaxPooling2D)   (None, 21, 21, 256)       0         \n",
      "_________________________________________________________________\n",
      "block4_conv1 (Conv2D)        (None, 21, 21, 512)       1180160   \n",
      "_________________________________________________________________\n",
      "block4_conv2 (Conv2D)        (None, 21, 21, 512)       2359808   \n",
      "_________________________________________________________________\n",
      "block4_conv3 (Conv2D)        (None, 21, 21, 512)       2359808   \n",
      "_________________________________________________________________\n",
      "block4_pool (MaxPooling2D)   (None, 10, 10, 512)       0         \n",
      "_________________________________________________________________\n",
      "block5_conv1 (Conv2D)        (None, 10, 10, 512)       2359808   \n",
      "_________________________________________________________________\n",
      "block5_conv2 (Conv2D)        (None, 10, 10, 512)       2359808   \n",
      "_________________________________________________________________\n",
      "block5_conv3 (Conv2D)        (None, 10, 10, 512)       2359808   \n",
      "_________________________________________________________________\n",
      "block5_pool (MaxPooling2D)   (None, 5, 5, 512)         0         \n",
      "_________________________________________________________________\n",
      "global_average_pooling2d_2 ( (None, 512)               0         \n",
      "_________________________________________________________________\n",
      "dense_4 (Dense)              (None, 4096)              2101248   \n",
      "_________________________________________________________________\n",
      "dropout_2 (Dropout)          (None, 4096)              0         \n",
      "_________________________________________________________________\n",
      "dense_5 (Dense)              (None, 84)                344148    \n",
      "=================================================================\n",
      "Total params: 17,160,084\n",
      "Trainable params: 2,445,396\n",
      "Non-trainable params: 14,714,688\n",
      "_________________________________________________________________\n"
     ]
    }
   ],
   "source": [
    "x = GlobalAveragePooling2D()(base_model.output)\n",
    "x = Dense(4096, activation='relu')(x)\n",
    "x = Dropout(0.2)(x)\n",
    "output = Dense(84, activation='softmax')(x)\n",
    "\n",
    "model = Model(inputs=input_image, outputs=output)\n",
    "\n",
    "model.summary()"
   ]
  },
  {
   "cell_type": "code",
   "execution_count": 303,
   "metadata": {
    "id": "r_3Hwt44rdgC"
   },
   "outputs": [],
   "source": [
    "lr=1e-4\n",
    "model.compile(loss='categorical_crossentropy', optimizer=opt, metrics=['accuracy'])\n"
   ]
  },
  {
   "cell_type": "code",
   "execution_count": 304,
   "metadata": {},
   "outputs": [],
   "source": [
    "opt = tf.keras.optimizers.Adam(\n",
    "    learning_rate=lr\n",
    ")"
   ]
  },
  {
   "cell_type": "code",
   "execution_count": 305,
   "metadata": {
    "id": "D2HocHuvrdgN"
   },
   "outputs": [],
   "source": [
    "checkpoint = ModelCheckpoint(\"weights_KZletters_VGG16.h5\", \n",
    "                             monitor='val_loss', \n",
    "                             verbose=1, \n",
    "                             save_best_only=True, \n",
    "                             save_weights_only=False, \n",
    "                             mode='min')\n",
    "\n",
    "early = EarlyStopping(monitor='val_loss', patience=10, verbose=1, mode='min', restore_best_weights=True)\n",
    "\n",
    "callback_list = [checkpoint, early]"
   ]
  },
  {
   "cell_type": "code",
   "execution_count": 306,
   "metadata": {
    "id": "1i-hBpeCrdgN",
    "outputId": "4b1c4732-3f68-421b-a1d2-fb42cf4270b3",
    "scrolled": true
   },
   "outputs": [
    {
     "name": "stdout",
     "output_type": "stream",
     "text": [
      "=========================================\n",
      "====== K Fold Validation step => 1/5 =======\n",
      "=========================================\n",
      "Train on 4278 samples, validate on 1070 samples\n",
      "Epoch 1/50\n",
      "4278/4278 [==============================] - ETA: 0s - loss: 3.9128 - acc: 0.1031\n",
      "Epoch 00001: val_loss improved from inf to 3.55471, saving model to weights_KZletters_VGG16.h5\n",
      "4278/4278 [==============================] - 69s 16ms/sample - loss: 3.9128 - acc: 0.1031 - val_loss: 3.5547 - val_acc: 0.1944\n",
      "Epoch 2/50\n",
      "4278/4278 [==============================] - ETA: 0s - loss: 3.2946 - acc: 0.3350\n",
      "Epoch 00002: val_loss improved from 3.55471 to 2.98454, saving model to weights_KZletters_VGG16.h5\n",
      "4278/4278 [==============================] - 69s 16ms/sample - loss: 3.2946 - acc: 0.3350 - val_loss: 2.9845 - val_acc: 0.4626\n",
      "Epoch 3/50\n",
      "4278/4278 [==============================] - ETA: 0s - loss: 2.7529 - acc: 0.4949\n",
      "Epoch 00003: val_loss improved from 2.98454 to 2.49675, saving model to weights_KZletters_VGG16.h5\n",
      "4278/4278 [==============================] - 95s 22ms/sample - loss: 2.7529 - acc: 0.4949 - val_loss: 2.4967 - val_acc: 0.5869\n",
      "Epoch 4/50\n",
      "4278/4278 [==============================] - ETA: 0s - loss: 2.2962 - acc: 0.5956\n",
      "Epoch 00004: val_loss improved from 2.49675 to 2.11123, saving model to weights_KZletters_VGG16.h5\n",
      "4278/4278 [==============================] - 93s 22ms/sample - loss: 2.2962 - acc: 0.5956 - val_loss: 2.1112 - val_acc: 0.6243\n",
      "Epoch 5/50\n",
      "4278/4278 [==============================] - ETA: 0s - loss: 1.9465 - acc: 0.6519\n",
      "Epoch 00005: val_loss improved from 2.11123 to 1.82001, saving model to weights_KZletters_VGG16.h5\n",
      "4278/4278 [==============================] - 79s 18ms/sample - loss: 1.9465 - acc: 0.6519 - val_loss: 1.8200 - val_acc: 0.6626\n",
      "Epoch 6/50\n",
      "4278/4278 [==============================] - ETA: 0s - loss: 1.6721 - acc: 0.7017\n",
      "Epoch 00006: val_loss improved from 1.82001 to 1.59649, saving model to weights_KZletters_VGG16.h5\n",
      "4278/4278 [==============================] - 69s 16ms/sample - loss: 1.6721 - acc: 0.7017 - val_loss: 1.5965 - val_acc: 0.7047\n",
      "Epoch 7/50\n",
      "4278/4278 [==============================] - ETA: 0s - loss: 1.4674 - acc: 0.7424\n",
      "Epoch 00007: val_loss improved from 1.59649 to 1.42782, saving model to weights_KZletters_VGG16.h5\n",
      "4278/4278 [==============================] - 73s 17ms/sample - loss: 1.4674 - acc: 0.7424 - val_loss: 1.4278 - val_acc: 0.7402\n",
      "Epoch 8/50\n",
      "4278/4278 [==============================] - ETA: 0s - loss: 1.3017 - acc: 0.7658\n",
      "Epoch 00008: val_loss improved from 1.42782 to 1.27839, saving model to weights_KZletters_VGG16.h5\n",
      "4278/4278 [==============================] - 71s 17ms/sample - loss: 1.3017 - acc: 0.7658 - val_loss: 1.2784 - val_acc: 0.7701\n",
      "Epoch 9/50\n",
      "4278/4278 [==============================] - ETA: 0s - loss: 1.1676 - acc: 0.7976\n",
      "Epoch 00009: val_loss improved from 1.27839 to 1.17724, saving model to weights_KZletters_VGG16.h5\n",
      "4278/4278 [==============================] - 70s 16ms/sample - loss: 1.1676 - acc: 0.7976 - val_loss: 1.1772 - val_acc: 0.7888\n",
      "Epoch 10/50\n",
      "4278/4278 [==============================] - ETA: 0s - loss: 1.0617 - acc: 0.8095\n",
      "Epoch 00010: val_loss improved from 1.17724 to 1.07624, saving model to weights_KZletters_VGG16.h5\n",
      "4278/4278 [==============================] - 72s 17ms/sample - loss: 1.0617 - acc: 0.8095 - val_loss: 1.0762 - val_acc: 0.8093\n",
      "Epoch 11/50\n",
      "4278/4278 [==============================] - ETA: 0s - loss: 0.9637 - acc: 0.8254\n",
      "Epoch 00011: val_loss improved from 1.07624 to 1.00189, saving model to weights_KZletters_VGG16.h5\n",
      "4278/4278 [==============================] - 71s 17ms/sample - loss: 0.9637 - acc: 0.8254 - val_loss: 1.0019 - val_acc: 0.8159\n",
      "Epoch 12/50\n",
      "4278/4278 [==============================] - ETA: 0s - loss: 0.8897 - acc: 0.8331\n",
      "Epoch 00012: val_loss improved from 1.00189 to 0.92672, saving model to weights_KZletters_VGG16.h5\n",
      "4278/4278 [==============================] - 74s 17ms/sample - loss: 0.8897 - acc: 0.8331 - val_loss: 0.9267 - val_acc: 0.8243\n",
      "Epoch 13/50\n",
      "4278/4278 [==============================] - ETA: 0s - loss: 0.8187 - acc: 0.8464\n",
      "Epoch 00013: val_loss improved from 0.92672 to 0.87844, saving model to weights_KZletters_VGG16.h5\n",
      "4278/4278 [==============================] - 79s 18ms/sample - loss: 0.8187 - acc: 0.8464 - val_loss: 0.8784 - val_acc: 0.8234\n",
      "Epoch 14/50\n",
      "4278/4278 [==============================] - ETA: 0s - loss: 0.7592 - acc: 0.8525\n",
      "Epoch 00014: val_loss improved from 0.87844 to 0.82553, saving model to weights_KZletters_VGG16.h5\n",
      "4278/4278 [==============================] - 73s 17ms/sample - loss: 0.7592 - acc: 0.8525 - val_loss: 0.8255 - val_acc: 0.8308\n",
      "Epoch 15/50\n",
      "4278/4278 [==============================] - ETA: 0s - loss: 0.7078 - acc: 0.8586\n",
      "Epoch 00015: val_loss improved from 0.82553 to 0.76992, saving model to weights_KZletters_VGG16.h5\n",
      "4278/4278 [==============================] - 72s 17ms/sample - loss: 0.7078 - acc: 0.8586 - val_loss: 0.7699 - val_acc: 0.8411\n",
      "Epoch 16/50\n",
      "4278/4278 [==============================] - ETA: 0s - loss: 0.6572 - acc: 0.8712\n",
      "Epoch 00016: val_loss improved from 0.76992 to 0.72956, saving model to weights_KZletters_VGG16.h5\n",
      "4278/4278 [==============================] - 73s 17ms/sample - loss: 0.6572 - acc: 0.8712 - val_loss: 0.7296 - val_acc: 0.8561\n",
      "Epoch 17/50\n",
      "4278/4278 [==============================] - ETA: 0s - loss: 0.6204 - acc: 0.8759\n",
      "Epoch 00017: val_loss improved from 0.72956 to 0.69665, saving model to weights_KZletters_VGG16.h5\n",
      "4278/4278 [==============================] - 72s 17ms/sample - loss: 0.6204 - acc: 0.8759 - val_loss: 0.6967 - val_acc: 0.8645\n",
      "Epoch 18/50\n",
      "4278/4278 [==============================] - ETA: 0s - loss: 0.5783 - acc: 0.8834\n",
      "Epoch 00018: val_loss improved from 0.69665 to 0.66766, saving model to weights_KZletters_VGG16.h5\n",
      "4278/4278 [==============================] - 72s 17ms/sample - loss: 0.5783 - acc: 0.8834 - val_loss: 0.6677 - val_acc: 0.8636\n",
      "Epoch 19/50\n",
      "4278/4278 [==============================] - ETA: 0s - loss: 0.5486 - acc: 0.8915\n",
      "Epoch 00019: val_loss improved from 0.66766 to 0.63320, saving model to weights_KZletters_VGG16.h5\n",
      "4278/4278 [==============================] - 72s 17ms/sample - loss: 0.5486 - acc: 0.8915 - val_loss: 0.6332 - val_acc: 0.8636\n",
      "Epoch 20/50\n",
      "4278/4278 [==============================] - ETA: 0s - loss: 0.5156 - acc: 0.8948\n",
      "Epoch 00020: val_loss improved from 0.63320 to 0.59479, saving model to weights_KZletters_VGG16.h5\n",
      "4278/4278 [==============================] - 72s 17ms/sample - loss: 0.5156 - acc: 0.8948 - val_loss: 0.5948 - val_acc: 0.8757\n",
      "Epoch 21/50\n",
      "4278/4278 [==============================] - ETA: 0s - loss: 0.4893 - acc: 0.9046\n",
      "Epoch 00021: val_loss improved from 0.59479 to 0.56788, saving model to weights_KZletters_VGG16.h5\n",
      "4278/4278 [==============================] - 72s 17ms/sample - loss: 0.4893 - acc: 0.9046 - val_loss: 0.5679 - val_acc: 0.8850\n",
      "Epoch 22/50\n",
      "4278/4278 [==============================] - ETA: 0s - loss: 0.4612 - acc: 0.9093\n",
      "Epoch 00022: val_loss improved from 0.56788 to 0.54268, saving model to weights_KZletters_VGG16.h5\n",
      "4278/4278 [==============================] - 72s 17ms/sample - loss: 0.4612 - acc: 0.9093 - val_loss: 0.5427 - val_acc: 0.8850\n",
      "Epoch 23/50\n",
      "4278/4278 [==============================] - ETA: 0s - loss: 0.4419 - acc: 0.9163\n",
      "Epoch 00023: val_loss improved from 0.54268 to 0.52365, saving model to weights_KZletters_VGG16.h5\n",
      "4278/4278 [==============================] - 72s 17ms/sample - loss: 0.4419 - acc: 0.9163 - val_loss: 0.5237 - val_acc: 0.8841\n",
      "Epoch 24/50\n",
      "4278/4278 [==============================] - ETA: 0s - loss: 0.4189 - acc: 0.9210\n",
      "Epoch 00024: val_loss improved from 0.52365 to 0.50549, saving model to weights_KZletters_VGG16.h5\n",
      "4278/4278 [==============================] - 72s 17ms/sample - loss: 0.4189 - acc: 0.9210 - val_loss: 0.5055 - val_acc: 0.8916\n",
      "Epoch 25/50\n",
      "4278/4278 [==============================] - ETA: 0s - loss: 0.3973 - acc: 0.9236\n",
      "Epoch 00025: val_loss improved from 0.50549 to 0.48200, saving model to weights_KZletters_VGG16.h5\n",
      "4278/4278 [==============================] - 72s 17ms/sample - loss: 0.3973 - acc: 0.9236 - val_loss: 0.4820 - val_acc: 0.9009\n",
      "Epoch 26/50\n",
      "4278/4278 [==============================] - ETA: 0s - loss: 0.3774 - acc: 0.9301\n",
      "Epoch 00026: val_loss improved from 0.48200 to 0.46402, saving model to weights_KZletters_VGG16.h5\n",
      "4278/4278 [==============================] - 72s 17ms/sample - loss: 0.3774 - acc: 0.9301 - val_loss: 0.4640 - val_acc: 0.8991\n",
      "Epoch 27/50\n",
      "4278/4278 [==============================] - ETA: 0s - loss: 0.3595 - acc: 0.9317\n",
      "Epoch 00027: val_loss improved from 0.46402 to 0.45165, saving model to weights_KZletters_VGG16.h5\n",
      "4278/4278 [==============================] - 72s 17ms/sample - loss: 0.3595 - acc: 0.9317 - val_loss: 0.4516 - val_acc: 0.9047\n",
      "Epoch 28/50\n",
      "4278/4278 [==============================] - ETA: 0s - loss: 0.3436 - acc: 0.9357\n",
      "Epoch 00028: val_loss improved from 0.45165 to 0.43247, saving model to weights_KZletters_VGG16.h5\n",
      "4278/4278 [==============================] - 72s 17ms/sample - loss: 0.3436 - acc: 0.9357 - val_loss: 0.4325 - val_acc: 0.9065\n",
      "Epoch 29/50\n",
      "4278/4278 [==============================] - ETA: 0s - loss: 0.3303 - acc: 0.9395\n",
      "Epoch 00029: val_loss improved from 0.43247 to 0.41980, saving model to weights_KZletters_VGG16.h5\n",
      "4278/4278 [==============================] - 71s 17ms/sample - loss: 0.3303 - acc: 0.9395 - val_loss: 0.4198 - val_acc: 0.9075\n",
      "Epoch 30/50\n",
      "4278/4278 [==============================] - ETA: 0s - loss: 0.3182 - acc: 0.9378\n",
      "Epoch 00030: val_loss improved from 0.41980 to 0.40901, saving model to weights_KZletters_VGG16.h5\n",
      "4278/4278 [==============================] - 71s 17ms/sample - loss: 0.3182 - acc: 0.9378 - val_loss: 0.4090 - val_acc: 0.9047\n",
      "Epoch 31/50\n",
      "4278/4278 [==============================] - ETA: 0s - loss: 0.3051 - acc: 0.9409\n",
      "Epoch 00031: val_loss improved from 0.40901 to 0.39737, saving model to weights_KZletters_VGG16.h5\n",
      "4278/4278 [==============================] - 71s 17ms/sample - loss: 0.3051 - acc: 0.9409 - val_loss: 0.3974 - val_acc: 0.9131\n",
      "Epoch 32/50\n",
      "4278/4278 [==============================] - ETA: 0s - loss: 0.2879 - acc: 0.9453\n",
      "Epoch 00032: val_loss improved from 0.39737 to 0.37846, saving model to weights_KZletters_VGG16.h5\n",
      "4278/4278 [==============================] - 71s 17ms/sample - loss: 0.2879 - acc: 0.9453 - val_loss: 0.3785 - val_acc: 0.9196\n",
      "Epoch 33/50\n",
      "4278/4278 [==============================] - ETA: 0s - loss: 0.2790 - acc: 0.9516\n",
      "Epoch 00033: val_loss improved from 0.37846 to 0.37115, saving model to weights_KZletters_VGG16.h5\n",
      "4278/4278 [==============================] - 71s 17ms/sample - loss: 0.2790 - acc: 0.9516 - val_loss: 0.3712 - val_acc: 0.9215\n",
      "Epoch 34/50\n",
      "4278/4278 [==============================] - ETA: 0s - loss: 0.2683 - acc: 0.9558\n",
      "Epoch 00034: val_loss improved from 0.37115 to 0.36474, saving model to weights_KZletters_VGG16.h5\n",
      "4278/4278 [==============================] - 71s 17ms/sample - loss: 0.2683 - acc: 0.9558 - val_loss: 0.3647 - val_acc: 0.9224\n",
      "Epoch 35/50\n",
      "4278/4278 [==============================] - ETA: 0s - loss: 0.2596 - acc: 0.9535\n",
      "Epoch 00035: val_loss improved from 0.36474 to 0.35016, saving model to weights_KZletters_VGG16.h5\n",
      "4278/4278 [==============================] - 71s 17ms/sample - loss: 0.2596 - acc: 0.9535 - val_loss: 0.3502 - val_acc: 0.9271\n",
      "Epoch 36/50\n",
      "4278/4278 [==============================] - ETA: 0s - loss: 0.2487 - acc: 0.9570\n",
      "Epoch 00036: val_loss improved from 0.35016 to 0.33744, saving model to weights_KZletters_VGG16.h5\n",
      "4278/4278 [==============================] - 71s 17ms/sample - loss: 0.2487 - acc: 0.9570 - val_loss: 0.3374 - val_acc: 0.9280\n",
      "Epoch 37/50\n",
      "4278/4278 [==============================] - ETA: 0s - loss: 0.2396 - acc: 0.9582\n",
      "Epoch 00037: val_loss improved from 0.33744 to 0.32976, saving model to weights_KZletters_VGG16.h5\n",
      "4278/4278 [==============================] - 71s 17ms/sample - loss: 0.2396 - acc: 0.9582 - val_loss: 0.3298 - val_acc: 0.9271\n",
      "Epoch 38/50\n",
      "4278/4278 [==============================] - ETA: 0s - loss: 0.2303 - acc: 0.9607\n",
      "Epoch 00038: val_loss improved from 0.32976 to 0.31832, saving model to weights_KZletters_VGG16.h5\n",
      "4278/4278 [==============================] - 71s 17ms/sample - loss: 0.2303 - acc: 0.9607 - val_loss: 0.3183 - val_acc: 0.9364\n",
      "Epoch 39/50\n",
      "4278/4278 [==============================] - ETA: 0s - loss: 0.2205 - acc: 0.9619\n",
      "Epoch 00039: val_loss improved from 0.31832 to 0.31577, saving model to weights_KZletters_VGG16.h5\n",
      "4278/4278 [==============================] - 71s 17ms/sample - loss: 0.2205 - acc: 0.9619 - val_loss: 0.3158 - val_acc: 0.9318\n",
      "Epoch 40/50\n",
      "4278/4278 [==============================] - ETA: 0s - loss: 0.2163 - acc: 0.9633\n",
      "Epoch 00040: val_loss improved from 0.31577 to 0.29849, saving model to weights_KZletters_VGG16.h5\n",
      "4278/4278 [==============================] - 72s 17ms/sample - loss: 0.2163 - acc: 0.9633 - val_loss: 0.2985 - val_acc: 0.9383\n",
      "Epoch 41/50\n",
      "4278/4278 [==============================] - ETA: 0s - loss: 0.2078 - acc: 0.9638\n",
      "Epoch 00041: val_loss improved from 0.29849 to 0.29394, saving model to weights_KZletters_VGG16.h5\n",
      "4278/4278 [==============================] - 71s 17ms/sample - loss: 0.2078 - acc: 0.9638 - val_loss: 0.2939 - val_acc: 0.9411\n",
      "Epoch 42/50\n",
      "4278/4278 [==============================] - ETA: 0s - loss: 0.2002 - acc: 0.9661\n",
      "Epoch 00042: val_loss improved from 0.29394 to 0.28981, saving model to weights_KZletters_VGG16.h5\n",
      "4278/4278 [==============================] - 72s 17ms/sample - loss: 0.2002 - acc: 0.9661 - val_loss: 0.2898 - val_acc: 0.9355\n",
      "Epoch 43/50\n",
      "4278/4278 [==============================] - ETA: 0s - loss: 0.1952 - acc: 0.9680\n",
      "Epoch 00043: val_loss improved from 0.28981 to 0.27776, saving model to weights_KZletters_VGG16.h5\n",
      "4278/4278 [==============================] - 75s 17ms/sample - loss: 0.1952 - acc: 0.9680 - val_loss: 0.2778 - val_acc: 0.9467\n",
      "Epoch 44/50\n",
      "4278/4278 [==============================] - ETA: 0s - loss: 0.1863 - acc: 0.9687\n",
      "Epoch 00044: val_loss improved from 0.27776 to 0.27438, saving model to weights_KZletters_VGG16.h5\n",
      "4278/4278 [==============================] - 74s 17ms/sample - loss: 0.1863 - acc: 0.9687 - val_loss: 0.2744 - val_acc: 0.9439\n",
      "Epoch 45/50\n",
      "4278/4278 [==============================] - ETA: 0s - loss: 0.1780 - acc: 0.9701\n",
      "Epoch 00045: val_loss improved from 0.27438 to 0.27229, saving model to weights_KZletters_VGG16.h5\n",
      "4278/4278 [==============================] - 71s 17ms/sample - loss: 0.1780 - acc: 0.9701 - val_loss: 0.2723 - val_acc: 0.9411\n",
      "Epoch 46/50\n",
      "4278/4278 [==============================] - ETA: 0s - loss: 0.1743 - acc: 0.9722\n",
      "Epoch 00046: val_loss improved from 0.27229 to 0.26267, saving model to weights_KZletters_VGG16.h5\n",
      "4278/4278 [==============================] - 71s 17ms/sample - loss: 0.1743 - acc: 0.9722 - val_loss: 0.2627 - val_acc: 0.9505\n",
      "Epoch 47/50\n",
      "4278/4278 [==============================] - ETA: 0s - loss: 0.1680 - acc: 0.9724\n",
      "Epoch 00047: val_loss improved from 0.26267 to 0.25925, saving model to weights_KZletters_VGG16.h5\n",
      "4278/4278 [==============================] - 71s 17ms/sample - loss: 0.1680 - acc: 0.9724 - val_loss: 0.2592 - val_acc: 0.9505\n",
      "Epoch 48/50\n",
      "4278/4278 [==============================] - ETA: 0s - loss: 0.1616 - acc: 0.9748\n",
      "Epoch 00048: val_loss improved from 0.25925 to 0.24919, saving model to weights_KZletters_VGG16.h5\n",
      "4278/4278 [==============================] - 71s 17ms/sample - loss: 0.1616 - acc: 0.9748 - val_loss: 0.2492 - val_acc: 0.9477\n",
      "Epoch 49/50\n",
      "4278/4278 [==============================] - ETA: 0s - loss: 0.1551 - acc: 0.9757\n",
      "Epoch 00049: val_loss improved from 0.24919 to 0.23864, saving model to weights_KZletters_VGG16.h5\n",
      "4278/4278 [==============================] - 71s 17ms/sample - loss: 0.1551 - acc: 0.9757 - val_loss: 0.2386 - val_acc: 0.9561\n",
      "Epoch 50/50\n",
      "4278/4278 [==============================] - ETA: 0s - loss: 0.1530 - acc: 0.9750\n",
      "Epoch 00050: val_loss did not improve from 0.23864\n",
      "4278/4278 [==============================] - 71s 17ms/sample - loss: 0.1530 - acc: 0.9750 - val_loss: 0.2419 - val_acc: 0.9551\n",
      "=========================================\n",
      "====== K Fold Validation step => 2/5 =======\n",
      "=========================================\n",
      "Train on 4278 samples, validate on 1070 samples\n",
      "Epoch 1/50\n",
      "4278/4278 [==============================] - ETA: 0s - loss: 0.1669 - acc: 0.9729\n",
      "Epoch 00001: val_loss improved from 0.23864 to 0.15755, saving model to weights_KZletters_VGG16.h5\n",
      "4278/4278 [==============================] - 72s 17ms/sample - loss: 0.1669 - acc: 0.9729 - val_loss: 0.1576 - val_acc: 0.9748\n",
      "Epoch 2/50\n",
      "4278/4278 [==============================] - ETA: 0s - loss: 0.1592 - acc: 0.9731\n",
      "Epoch 00002: val_loss did not improve from 0.15755\n",
      "4278/4278 [==============================] - 73s 17ms/sample - loss: 0.1592 - acc: 0.9731 - val_loss: 0.1628 - val_acc: 0.9701\n",
      "Epoch 3/50\n",
      "4278/4278 [==============================] - ETA: 0s - loss: 0.1514 - acc: 0.9771\n",
      "Epoch 00003: val_loss did not improve from 0.15755\n",
      "4278/4278 [==============================] - 72s 17ms/sample - loss: 0.1514 - acc: 0.9771 - val_loss: 0.1585 - val_acc: 0.9701\n",
      "Epoch 4/50\n",
      "4278/4278 [==============================] - ETA: 0s - loss: 0.1473 - acc: 0.9752\n",
      "Epoch 00004: val_loss did not improve from 0.15755\n",
      "4278/4278 [==============================] - 72s 17ms/sample - loss: 0.1473 - acc: 0.9752 - val_loss: 0.1583 - val_acc: 0.9729\n",
      "Epoch 5/50\n",
      "4278/4278 [==============================] - ETA: 0s - loss: 0.1390 - acc: 0.9792\n",
      "Epoch 00005: val_loss did not improve from 0.15755\n",
      "4278/4278 [==============================] - 72s 17ms/sample - loss: 0.1390 - acc: 0.9792 - val_loss: 0.1601 - val_acc: 0.9720\n",
      "Epoch 6/50\n",
      "4278/4278 [==============================] - ETA: 0s - loss: 0.1351 - acc: 0.9778\n",
      "Epoch 00006: val_loss did not improve from 0.15755\n",
      "4278/4278 [==============================] - 72s 17ms/sample - loss: 0.1351 - acc: 0.9778 - val_loss: 0.1597 - val_acc: 0.9692\n",
      "Epoch 7/50\n",
      "4278/4278 [==============================] - ETA: 0s - loss: 0.1257 - acc: 0.9815\n",
      "Epoch 00007: val_loss improved from 0.15755 to 0.15604, saving model to weights_KZletters_VGG16.h5\n",
      "4278/4278 [==============================] - 73s 17ms/sample - loss: 0.1257 - acc: 0.9815 - val_loss: 0.1560 - val_acc: 0.9692\n",
      "Epoch 8/50\n",
      "4278/4278 [==============================] - ETA: 0s - loss: 0.1245 - acc: 0.9822\n",
      "Epoch 00008: val_loss did not improve from 0.15604\n",
      "4278/4278 [==============================] - 73s 17ms/sample - loss: 0.1245 - acc: 0.9822 - val_loss: 0.1567 - val_acc: 0.9720\n",
      "Epoch 9/50\n",
      "4278/4278 [==============================] - ETA: 0s - loss: 0.1235 - acc: 0.9829\n",
      "Epoch 00009: val_loss did not improve from 0.15604\n",
      "4278/4278 [==============================] - 73s 17ms/sample - loss: 0.1235 - acc: 0.9829 - val_loss: 0.1580 - val_acc: 0.9720\n",
      "Epoch 10/50\n",
      "4278/4278 [==============================] - ETA: 0s - loss: 0.1153 - acc: 0.9832\n",
      "Epoch 00010: val_loss improved from 0.15604 to 0.15290, saving model to weights_KZletters_VGG16.h5\n",
      "4278/4278 [==============================] - 73s 17ms/sample - loss: 0.1153 - acc: 0.9832 - val_loss: 0.1529 - val_acc: 0.9710\n",
      "Epoch 11/50\n",
      "4278/4278 [==============================] - ETA: 0s - loss: 0.1102 - acc: 0.9848\n",
      "Epoch 00011: val_loss did not improve from 0.15290\n",
      "4278/4278 [==============================] - 72s 17ms/sample - loss: 0.1102 - acc: 0.9848 - val_loss: 0.1530 - val_acc: 0.9710\n",
      "Epoch 12/50\n",
      "4278/4278 [==============================] - ETA: 0s - loss: 0.1072 - acc: 0.9860\n",
      "Epoch 00012: val_loss improved from 0.15290 to 0.15050, saving model to weights_KZletters_VGG16.h5\n",
      "4278/4278 [==============================] - 73s 17ms/sample - loss: 0.1072 - acc: 0.9860 - val_loss: 0.1505 - val_acc: 0.9720\n",
      "Epoch 13/50\n",
      "4278/4278 [==============================] - ETA: 0s - loss: 0.1036 - acc: 0.9853\n",
      "Epoch 00013: val_loss did not improve from 0.15050\n",
      "4278/4278 [==============================] - 72s 17ms/sample - loss: 0.1036 - acc: 0.9853 - val_loss: 0.1512 - val_acc: 0.9701\n",
      "Epoch 14/50\n",
      "4278/4278 [==============================] - ETA: 0s - loss: 0.0981 - acc: 0.9867\n",
      "Epoch 00014: val_loss improved from 0.15050 to 0.14891, saving model to weights_KZletters_VGG16.h5\n",
      "4278/4278 [==============================] - 73s 17ms/sample - loss: 0.0981 - acc: 0.9867 - val_loss: 0.1489 - val_acc: 0.9701\n",
      "Epoch 15/50\n",
      "4278/4278 [==============================] - ETA: 0s - loss: 0.0969 - acc: 0.9883\n",
      "Epoch 00015: val_loss did not improve from 0.14891\n",
      "4278/4278 [==============================] - 73s 17ms/sample - loss: 0.0969 - acc: 0.9883 - val_loss: 0.1500 - val_acc: 0.9682\n",
      "Epoch 16/50\n",
      "4278/4278 [==============================] - ETA: 0s - loss: 0.0925 - acc: 0.9862\n",
      "Epoch 00016: val_loss improved from 0.14891 to 0.14392, saving model to weights_KZletters_VGG16.h5\n",
      "4278/4278 [==============================] - 73s 17ms/sample - loss: 0.0925 - acc: 0.9862 - val_loss: 0.1439 - val_acc: 0.9720\n",
      "Epoch 17/50\n",
      "4278/4278 [==============================] - ETA: 0s - loss: 0.0899 - acc: 0.9862\n",
      "Epoch 00017: val_loss did not improve from 0.14392\n",
      "4278/4278 [==============================] - 72s 17ms/sample - loss: 0.0899 - acc: 0.9862 - val_loss: 0.1449 - val_acc: 0.9720\n",
      "Epoch 18/50\n",
      "4278/4278 [==============================] - ETA: 0s - loss: 0.0855 - acc: 0.9895\n",
      "Epoch 00018: val_loss improved from 0.14392 to 0.14222, saving model to weights_KZletters_VGG16.h5\n",
      "4278/4278 [==============================] - 73s 17ms/sample - loss: 0.0855 - acc: 0.9895 - val_loss: 0.1422 - val_acc: 0.9720\n",
      "Epoch 19/50\n",
      "4278/4278 [==============================] - ETA: 0s - loss: 0.0844 - acc: 0.9885\n",
      "Epoch 00019: val_loss improved from 0.14222 to 0.14178, saving model to weights_KZletters_VGG16.h5\n",
      "4278/4278 [==============================] - 72s 17ms/sample - loss: 0.0844 - acc: 0.9885 - val_loss: 0.1418 - val_acc: 0.9720\n",
      "Epoch 20/50\n",
      "4278/4278 [==============================] - ETA: 0s - loss: 0.0826 - acc: 0.9892\n",
      "Epoch 00020: val_loss improved from 0.14178 to 0.13991, saving model to weights_KZletters_VGG16.h5\n",
      "4278/4278 [==============================] - 72s 17ms/sample - loss: 0.0826 - acc: 0.9892 - val_loss: 0.1399 - val_acc: 0.9720\n",
      "Epoch 21/50\n",
      "4278/4278 [==============================] - ETA: 0s - loss: 0.0799 - acc: 0.9902\n",
      "Epoch 00021: val_loss improved from 0.13991 to 0.13820, saving model to weights_KZletters_VGG16.h5\n",
      "4278/4278 [==============================] - 71s 17ms/sample - loss: 0.0799 - acc: 0.9902 - val_loss: 0.1382 - val_acc: 0.9738\n",
      "Epoch 22/50\n",
      "4278/4278 [==============================] - ETA: 0s - loss: 0.0747 - acc: 0.9918\n",
      "Epoch 00022: val_loss did not improve from 0.13820\n",
      "4278/4278 [==============================] - 71s 17ms/sample - loss: 0.0747 - acc: 0.9918 - val_loss: 0.1388 - val_acc: 0.9720\n",
      "Epoch 23/50\n",
      "4278/4278 [==============================] - ETA: 0s - loss: 0.0739 - acc: 0.9918\n",
      "Epoch 00023: val_loss improved from 0.13820 to 0.13660, saving model to weights_KZletters_VGG16.h5\n",
      "4278/4278 [==============================] - 71s 17ms/sample - loss: 0.0739 - acc: 0.9918 - val_loss: 0.1366 - val_acc: 0.9729\n",
      "Epoch 24/50\n",
      "4278/4278 [==============================] - ETA: 0s - loss: 0.0709 - acc: 0.9909\n",
      "Epoch 00024: val_loss did not improve from 0.13660\n",
      "4278/4278 [==============================] - 71s 17ms/sample - loss: 0.0709 - acc: 0.9909 - val_loss: 0.1372 - val_acc: 0.9729\n",
      "Epoch 25/50\n",
      "4278/4278 [==============================] - ETA: 0s - loss: 0.0701 - acc: 0.9911\n",
      "Epoch 00025: val_loss improved from 0.13660 to 0.13451, saving model to weights_KZletters_VGG16.h5\n",
      "4278/4278 [==============================] - 71s 17ms/sample - loss: 0.0701 - acc: 0.9911 - val_loss: 0.1345 - val_acc: 0.9738\n",
      "Epoch 26/50\n",
      "4278/4278 [==============================] - ETA: 0s - loss: 0.0661 - acc: 0.9918\n",
      "Epoch 00026: val_loss did not improve from 0.13451\n",
      "4278/4278 [==============================] - 71s 17ms/sample - loss: 0.0661 - acc: 0.9918 - val_loss: 0.1352 - val_acc: 0.9720\n",
      "Epoch 27/50\n",
      "4278/4278 [==============================] - ETA: 0s - loss: 0.0666 - acc: 0.9916\n",
      "Epoch 00027: val_loss did not improve from 0.13451\n",
      "4278/4278 [==============================] - 71s 17ms/sample - loss: 0.0666 - acc: 0.9916 - val_loss: 0.1357 - val_acc: 0.9738\n",
      "Epoch 28/50\n",
      "4278/4278 [==============================] - ETA: 0s - loss: 0.0641 - acc: 0.9918\n",
      "Epoch 00028: val_loss improved from 0.13451 to 0.13264, saving model to weights_KZletters_VGG16.h5\n",
      "4278/4278 [==============================] - 71s 17ms/sample - loss: 0.0641 - acc: 0.9918 - val_loss: 0.1326 - val_acc: 0.9748\n",
      "Epoch 29/50\n",
      "4278/4278 [==============================] - ETA: 0s - loss: 0.0610 - acc: 0.9928\n",
      "Epoch 00029: val_loss improved from 0.13264 to 0.12939, saving model to weights_KZletters_VGG16.h5\n",
      "4278/4278 [==============================] - 71s 17ms/sample - loss: 0.0610 - acc: 0.9928 - val_loss: 0.1294 - val_acc: 0.9757\n",
      "Epoch 30/50\n",
      "4278/4278 [==============================] - ETA: 0s - loss: 0.0600 - acc: 0.9937\n",
      "Epoch 00030: val_loss did not improve from 0.12939\n",
      "4278/4278 [==============================] - 71s 17ms/sample - loss: 0.0600 - acc: 0.9937 - val_loss: 0.1300 - val_acc: 0.9738\n",
      "Epoch 31/50\n",
      "4278/4278 [==============================] - ETA: 0s - loss: 0.0570 - acc: 0.9942\n",
      "Epoch 00031: val_loss improved from 0.12939 to 0.12880, saving model to weights_KZletters_VGG16.h5\n",
      "4278/4278 [==============================] - 71s 17ms/sample - loss: 0.0570 - acc: 0.9942 - val_loss: 0.1288 - val_acc: 0.9766\n",
      "Epoch 32/50\n",
      "4278/4278 [==============================] - ETA: 0s - loss: 0.0550 - acc: 0.9942\n",
      "Epoch 00032: val_loss improved from 0.12880 to 0.12718, saving model to weights_KZletters_VGG16.h5\n",
      "4278/4278 [==============================] - 71s 17ms/sample - loss: 0.0550 - acc: 0.9942 - val_loss: 0.1272 - val_acc: 0.9738\n",
      "Epoch 33/50\n",
      "4278/4278 [==============================] - ETA: 0s - loss: 0.0532 - acc: 0.9953\n",
      "Epoch 00033: val_loss improved from 0.12718 to 0.12702, saving model to weights_KZletters_VGG16.h5\n",
      "4278/4278 [==============================] - 71s 17ms/sample - loss: 0.0532 - acc: 0.9953 - val_loss: 0.1270 - val_acc: 0.9748\n",
      "Epoch 34/50\n",
      "4278/4278 [==============================] - ETA: 0s - loss: 0.0527 - acc: 0.9951\n",
      "Epoch 00034: val_loss improved from 0.12702 to 0.12645, saving model to weights_KZletters_VGG16.h5\n",
      "4278/4278 [==============================] - 71s 17ms/sample - loss: 0.0527 - acc: 0.9951 - val_loss: 0.1264 - val_acc: 0.9748\n",
      "Epoch 35/50\n",
      "4278/4278 [==============================] - ETA: 0s - loss: 0.0510 - acc: 0.9953\n",
      "Epoch 00035: val_loss improved from 0.12645 to 0.12642, saving model to weights_KZletters_VGG16.h5\n",
      "4278/4278 [==============================] - 71s 17ms/sample - loss: 0.0510 - acc: 0.9953 - val_loss: 0.1264 - val_acc: 0.9757\n",
      "Epoch 36/50\n",
      "4278/4278 [==============================] - ETA: 0s - loss: 0.0491 - acc: 0.9953\n",
      "Epoch 00036: val_loss improved from 0.12642 to 0.12473, saving model to weights_KZletters_VGG16.h5\n",
      "4278/4278 [==============================] - 71s 17ms/sample - loss: 0.0491 - acc: 0.9953 - val_loss: 0.1247 - val_acc: 0.9738\n",
      "Epoch 37/50\n",
      "4278/4278 [==============================] - ETA: 0s - loss: 0.0480 - acc: 0.9963\n",
      "Epoch 00037: val_loss improved from 0.12473 to 0.12411, saving model to weights_KZletters_VGG16.h5\n",
      "4278/4278 [==============================] - 71s 17ms/sample - loss: 0.0480 - acc: 0.9963 - val_loss: 0.1241 - val_acc: 0.9748\n",
      "Epoch 38/50\n",
      "4278/4278 [==============================] - ETA: 0s - loss: 0.0461 - acc: 0.9963\n",
      "Epoch 00038: val_loss improved from 0.12411 to 0.12208, saving model to weights_KZletters_VGG16.h5\n",
      "4278/4278 [==============================] - 71s 17ms/sample - loss: 0.0461 - acc: 0.9963 - val_loss: 0.1221 - val_acc: 0.9748\n",
      "Epoch 39/50\n",
      "4278/4278 [==============================] - ETA: 0s - loss: 0.0452 - acc: 0.9965\n",
      "Epoch 00039: val_loss did not improve from 0.12208\n",
      "4278/4278 [==============================] - 71s 17ms/sample - loss: 0.0452 - acc: 0.9965 - val_loss: 0.1238 - val_acc: 0.9766\n",
      "Epoch 40/50\n",
      "4278/4278 [==============================] - ETA: 0s - loss: 0.0439 - acc: 0.9953\n",
      "Epoch 00040: val_loss did not improve from 0.12208\n",
      "4278/4278 [==============================] - 71s 17ms/sample - loss: 0.0439 - acc: 0.9953 - val_loss: 0.1232 - val_acc: 0.9738\n",
      "Epoch 41/50\n",
      "4278/4278 [==============================] - ETA: 0s - loss: 0.0410 - acc: 0.9970\n",
      "Epoch 00041: val_loss did not improve from 0.12208\n",
      "4278/4278 [==============================] - 71s 17ms/sample - loss: 0.0410 - acc: 0.9970 - val_loss: 0.1234 - val_acc: 0.9738\n",
      "Epoch 42/50\n",
      "4278/4278 [==============================] - ETA: 0s - loss: 0.0412 - acc: 0.9965\n",
      "Epoch 00042: val_loss improved from 0.12208 to 0.12031, saving model to weights_KZletters_VGG16.h5\n",
      "4278/4278 [==============================] - 72s 17ms/sample - loss: 0.0412 - acc: 0.9965 - val_loss: 0.1203 - val_acc: 0.9757\n",
      "Epoch 43/50\n",
      "4278/4278 [==============================] - ETA: 0s - loss: 0.0387 - acc: 0.9977\n",
      "Epoch 00043: val_loss improved from 0.12031 to 0.11954, saving model to weights_KZletters_VGG16.h5\n",
      "4278/4278 [==============================] - 71s 17ms/sample - loss: 0.0387 - acc: 0.9977 - val_loss: 0.1195 - val_acc: 0.9757\n",
      "Epoch 44/50\n",
      "4278/4278 [==============================] - ETA: 0s - loss: 0.0371 - acc: 0.9974\n",
      "Epoch 00044: val_loss did not improve from 0.11954\n",
      "4278/4278 [==============================] - 71s 17ms/sample - loss: 0.0371 - acc: 0.9974 - val_loss: 0.1200 - val_acc: 0.9785\n",
      "Epoch 45/50\n",
      "4278/4278 [==============================] - ETA: 0s - loss: 0.0374 - acc: 0.9974\n",
      "Epoch 00045: val_loss improved from 0.11954 to 0.11911, saving model to weights_KZletters_VGG16.h5\n",
      "4278/4278 [==============================] - 71s 17ms/sample - loss: 0.0374 - acc: 0.9974 - val_loss: 0.1191 - val_acc: 0.9757\n",
      "Epoch 46/50\n",
      "4278/4278 [==============================] - ETA: 0s - loss: 0.0366 - acc: 0.9977\n",
      "Epoch 00046: val_loss improved from 0.11911 to 0.11802, saving model to weights_KZletters_VGG16.h5\n",
      "4278/4278 [==============================] - 72s 17ms/sample - loss: 0.0366 - acc: 0.9977 - val_loss: 0.1180 - val_acc: 0.9748\n",
      "Epoch 47/50\n",
      "4278/4278 [==============================] - ETA: 0s - loss: 0.0353 - acc: 0.9977\n",
      "Epoch 00047: val_loss improved from 0.11802 to 0.11766, saving model to weights_KZletters_VGG16.h5\n",
      "4278/4278 [==============================] - 72s 17ms/sample - loss: 0.0353 - acc: 0.9977 - val_loss: 0.1177 - val_acc: 0.9757\n",
      "Epoch 48/50\n",
      "4278/4278 [==============================] - ETA: 0s - loss: 0.0342 - acc: 0.9977\n",
      "Epoch 00048: val_loss did not improve from 0.11766\n",
      "4278/4278 [==============================] - 71s 17ms/sample - loss: 0.0342 - acc: 0.9977 - val_loss: 0.1195 - val_acc: 0.9757\n",
      "Epoch 49/50\n",
      "4278/4278 [==============================] - ETA: 0s - loss: 0.0333 - acc: 0.9979\n",
      "Epoch 00049: val_loss did not improve from 0.11766\n",
      "4278/4278 [==============================] - 72s 17ms/sample - loss: 0.0333 - acc: 0.9979 - val_loss: 0.1181 - val_acc: 0.9757\n",
      "Epoch 50/50\n",
      "4278/4278 [==============================] - ETA: 0s - loss: 0.0315 - acc: 0.9986\n",
      "Epoch 00050: val_loss improved from 0.11766 to 0.11632, saving model to weights_KZletters_VGG16.h5\n",
      "4278/4278 [==============================] - 71s 17ms/sample - loss: 0.0315 - acc: 0.9986 - val_loss: 0.1163 - val_acc: 0.9748\n",
      "=========================================\n",
      "====== K Fold Validation step => 3/5 =======\n",
      "=========================================\n",
      "Train on 4278 samples, validate on 1070 samples\n",
      "Epoch 1/50\n",
      "4278/4278 [==============================] - ETA: 0s - loss: 0.0543 - acc: 0.9932\n",
      "Epoch 00001: val_loss improved from 0.11632 to 0.02613, saving model to weights_KZletters_VGG16.h5\n",
      "4278/4278 [==============================] - 74s 17ms/sample - loss: 0.0543 - acc: 0.9932 - val_loss: 0.0261 - val_acc: 0.9991\n",
      "Epoch 2/50\n",
      "4278/4278 [==============================] - ETA: 0s - loss: 0.0489 - acc: 0.9944\n",
      "Epoch 00002: val_loss improved from 0.02613 to 0.02534, saving model to weights_KZletters_VGG16.h5\n",
      "4278/4278 [==============================] - 74s 17ms/sample - loss: 0.0489 - acc: 0.9944 - val_loss: 0.0253 - val_acc: 0.9991\n",
      "Epoch 3/50\n",
      "4278/4278 [==============================] - ETA: 0s - loss: 0.0438 - acc: 0.9956\n",
      "Epoch 00003: val_loss did not improve from 0.02534\n",
      "4278/4278 [==============================] - 72s 17ms/sample - loss: 0.0438 - acc: 0.9956 - val_loss: 0.0267 - val_acc: 0.9963\n",
      "Epoch 4/50\n",
      "4278/4278 [==============================] - ETA: 0s - loss: 0.0420 - acc: 0.9963\n",
      "Epoch 00004: val_loss did not improve from 0.02534\n",
      "4278/4278 [==============================] - 71s 17ms/sample - loss: 0.0420 - acc: 0.9963 - val_loss: 0.0284 - val_acc: 0.9963\n",
      "Epoch 5/50\n",
      "4278/4278 [==============================] - ETA: 0s - loss: 0.0397 - acc: 0.9958\n",
      "Epoch 00005: val_loss did not improve from 0.02534\n",
      "4278/4278 [==============================] - 71s 17ms/sample - loss: 0.0397 - acc: 0.9958 - val_loss: 0.0271 - val_acc: 0.9953\n",
      "Epoch 6/50\n",
      "4278/4278 [==============================] - ETA: 0s - loss: 0.0379 - acc: 0.9965\n",
      "Epoch 00006: val_loss did not improve from 0.02534\n",
      "4278/4278 [==============================] - 71s 17ms/sample - loss: 0.0379 - acc: 0.9965 - val_loss: 0.0265 - val_acc: 0.9981\n",
      "Epoch 7/50\n",
      "4278/4278 [==============================] - ETA: 0s - loss: 0.0363 - acc: 0.9965\n",
      "Epoch 00007: val_loss did not improve from 0.02534\n",
      "4278/4278 [==============================] - 71s 17ms/sample - loss: 0.0363 - acc: 0.9965 - val_loss: 0.0263 - val_acc: 0.9963\n",
      "Epoch 8/50\n",
      "4278/4278 [==============================] - ETA: 0s - loss: 0.0348 - acc: 0.9972\n",
      "Epoch 00008: val_loss did not improve from 0.02534\n",
      "4278/4278 [==============================] - 71s 17ms/sample - loss: 0.0348 - acc: 0.9972 - val_loss: 0.0266 - val_acc: 0.9963\n",
      "Epoch 9/50\n",
      "4278/4278 [==============================] - ETA: 0s - loss: 0.0334 - acc: 0.9979\n",
      "Epoch 00009: val_loss did not improve from 0.02534\n",
      "4278/4278 [==============================] - 71s 17ms/sample - loss: 0.0334 - acc: 0.9979 - val_loss: 0.0270 - val_acc: 0.9963\n",
      "Epoch 10/50\n",
      "4278/4278 [==============================] - ETA: 0s - loss: 0.0317 - acc: 0.9979\n",
      "Epoch 00010: val_loss did not improve from 0.02534\n",
      "4278/4278 [==============================] - 71s 17ms/sample - loss: 0.0317 - acc: 0.9979 - val_loss: 0.0259 - val_acc: 0.9963\n",
      "Epoch 11/50\n",
      "4278/4278 [==============================] - ETA: 0s - loss: 0.0304 - acc: 0.9981\n",
      "Epoch 00011: val_loss did not improve from 0.02534\n",
      "4278/4278 [==============================] - 71s 17ms/sample - loss: 0.0304 - acc: 0.9981 - val_loss: 0.0266 - val_acc: 0.9972\n",
      "Epoch 12/50\n",
      "4278/4278 [==============================] - ETA: 0s - loss: 0.0295 - acc: 0.9981\n",
      "Epoch 00012: val_loss did not improve from 0.02534\n",
      "Restoring model weights from the end of the best epoch.\n",
      "4278/4278 [==============================] - 71s 17ms/sample - loss: 0.0295 - acc: 0.9981 - val_loss: 0.0255 - val_acc: 0.9953\n",
      "Epoch 00012: early stopping\n",
      "=========================================\n",
      "====== K Fold Validation step => 4/5 =======\n",
      "=========================================\n",
      "Train on 4279 samples, validate on 1069 samples\n",
      "Epoch 1/50\n",
      "4279/4279 [==============================] - ETA: 0s - loss: 0.0446 - acc: 0.9939\n",
      "Epoch 00001: val_loss did not improve from 0.02534\n",
      "4279/4279 [==============================] - 73s 17ms/sample - loss: 0.0446 - acc: 0.9939 - val_loss: 0.0275 - val_acc: 0.9991\n",
      "Epoch 2/50\n",
      "4279/4279 [==============================] - ETA: 0s - loss: 0.0417 - acc: 0.9953\n",
      "Epoch 00002: val_loss did not improve from 0.02534\n",
      "4279/4279 [==============================] - 72s 17ms/sample - loss: 0.0417 - acc: 0.9953 - val_loss: 0.0278 - val_acc: 0.9991\n",
      "Epoch 3/50\n",
      "4279/4279 [==============================] - ETA: 0s - loss: 0.0390 - acc: 0.9956\n",
      "Epoch 00003: val_loss did not improve from 0.02534\n",
      "4279/4279 [==============================] - 73s 17ms/sample - loss: 0.0390 - acc: 0.9956 - val_loss: 0.0273 - val_acc: 0.9981\n",
      "Epoch 4/50\n",
      "4279/4279 [==============================] - ETA: 0s - loss: 0.0369 - acc: 0.9963\n",
      "Epoch 00004: val_loss did not improve from 0.02534\n",
      "4279/4279 [==============================] - 73s 17ms/sample - loss: 0.0369 - acc: 0.9963 - val_loss: 0.0309 - val_acc: 0.9972\n",
      "Epoch 5/50\n",
      "4279/4279 [==============================] - ETA: 0s - loss: 0.0357 - acc: 0.9963\n",
      "Epoch 00005: val_loss did not improve from 0.02534\n",
      "4279/4279 [==============================] - 73s 17ms/sample - loss: 0.0357 - acc: 0.9963 - val_loss: 0.0298 - val_acc: 0.9981\n",
      "Epoch 6/50\n",
      "4279/4279 [==============================] - ETA: 0s - loss: 0.0329 - acc: 0.9965\n",
      "Epoch 00006: val_loss did not improve from 0.02534\n",
      "4279/4279 [==============================] - 73s 17ms/sample - loss: 0.0329 - acc: 0.9965 - val_loss: 0.0280 - val_acc: 0.9972\n",
      "Epoch 7/50\n",
      "4279/4279 [==============================] - ETA: 0s - loss: 0.0325 - acc: 0.9977\n",
      "Epoch 00007: val_loss did not improve from 0.02534\n",
      "4279/4279 [==============================] - 73s 17ms/sample - loss: 0.0325 - acc: 0.9977 - val_loss: 0.0289 - val_acc: 0.9972\n",
      "Epoch 8/50\n",
      "4279/4279 [==============================] - ETA: 0s - loss: 0.0302 - acc: 0.9977\n",
      "Epoch 00008: val_loss did not improve from 0.02534\n",
      "4279/4279 [==============================] - 73s 17ms/sample - loss: 0.0302 - acc: 0.9977 - val_loss: 0.0295 - val_acc: 0.9963\n",
      "Epoch 9/50\n",
      "4279/4279 [==============================] - ETA: 0s - loss: 0.0289 - acc: 0.9977\n",
      "Epoch 00009: val_loss did not improve from 0.02534\n",
      "4279/4279 [==============================] - 73s 17ms/sample - loss: 0.0289 - acc: 0.9977 - val_loss: 0.0289 - val_acc: 0.9963\n",
      "Epoch 10/50\n",
      "4279/4279 [==============================] - ETA: 0s - loss: 0.0282 - acc: 0.9984\n",
      "Epoch 00010: val_loss did not improve from 0.02534\n",
      "4279/4279 [==============================] - 73s 17ms/sample - loss: 0.0282 - acc: 0.9984 - val_loss: 0.0293 - val_acc: 0.9953\n",
      "Epoch 11/50\n",
      "4279/4279 [==============================] - ETA: 0s - loss: 0.0270 - acc: 0.9984\n",
      "Epoch 00011: val_loss did not improve from 0.02534\n",
      "4279/4279 [==============================] - 73s 17ms/sample - loss: 0.0270 - acc: 0.9984 - val_loss: 0.0287 - val_acc: 0.9953\n",
      "Epoch 12/50\n",
      "4279/4279 [==============================] - ETA: 0s - loss: 0.0258 - acc: 0.9991\n",
      "Epoch 00012: val_loss did not improve from 0.02534\n",
      "4279/4279 [==============================] - 73s 17ms/sample - loss: 0.0258 - acc: 0.9991 - val_loss: 0.0284 - val_acc: 0.9944\n",
      "Epoch 13/50\n",
      "4279/4279 [==============================] - ETA: 0s - loss: 0.0251 - acc: 0.9988\n",
      "Epoch 00013: val_loss did not improve from 0.02534\n",
      "Restoring model weights from the end of the best epoch.\n",
      "4279/4279 [==============================] - 73s 17ms/sample - loss: 0.0251 - acc: 0.9988 - val_loss: 0.0298 - val_acc: 0.9953\n",
      "Epoch 00013: early stopping\n",
      "=========================================\n",
      "====== K Fold Validation step => 5/5 =======\n",
      "=========================================\n",
      "Train on 4279 samples, validate on 1069 samples\n",
      "Epoch 1/50\n",
      "4279/4279 [==============================] - ETA: 0s - loss: 0.0375 - acc: 0.9963\n",
      "Epoch 00001: val_loss did not improve from 0.02534\n",
      "4279/4279 [==============================] - 72s 17ms/sample - loss: 0.0375 - acc: 0.9963 - val_loss: 0.0272 - val_acc: 0.9991\n",
      "Epoch 2/50\n",
      "4279/4279 [==============================] - ETA: 0s - loss: 0.0357 - acc: 0.9965\n",
      "Epoch 00002: val_loss did not improve from 0.02534\n",
      "4279/4279 [==============================] - 73s 17ms/sample - loss: 0.0357 - acc: 0.9965 - val_loss: 0.0297 - val_acc: 0.9981\n",
      "Epoch 3/50\n",
      "4279/4279 [==============================] - ETA: 0s - loss: 0.0354 - acc: 0.9956\n",
      "Epoch 00003: val_loss did not improve from 0.02534\n",
      "4279/4279 [==============================] - 73s 17ms/sample - loss: 0.0354 - acc: 0.9956 - val_loss: 0.0302 - val_acc: 0.9972\n",
      "Epoch 4/50\n",
      "4279/4279 [==============================] - ETA: 0s - loss: 0.0321 - acc: 0.9970\n",
      "Epoch 00004: val_loss did not improve from 0.02534\n",
      "4279/4279 [==============================] - 73s 17ms/sample - loss: 0.0321 - acc: 0.9970 - val_loss: 0.0298 - val_acc: 0.9972\n",
      "Epoch 5/50\n",
      "4279/4279 [==============================] - ETA: 0s - loss: 0.0303 - acc: 0.9984\n",
      "Epoch 00005: val_loss did not improve from 0.02534\n",
      "4279/4279 [==============================] - 73s 17ms/sample - loss: 0.0303 - acc: 0.9984 - val_loss: 0.0288 - val_acc: 0.9972\n",
      "Epoch 6/50\n",
      "4279/4279 [==============================] - ETA: 0s - loss: 0.0296 - acc: 0.9972\n",
      "Epoch 00006: val_loss did not improve from 0.02534\n",
      "4279/4279 [==============================] - 73s 17ms/sample - loss: 0.0296 - acc: 0.9972 - val_loss: 0.0304 - val_acc: 0.9963\n",
      "Epoch 7/50\n",
      "4279/4279 [==============================] - ETA: 0s - loss: 0.0276 - acc: 0.9981\n",
      "Epoch 00007: val_loss did not improve from 0.02534\n",
      "4279/4279 [==============================] - 73s 17ms/sample - loss: 0.0276 - acc: 0.9981 - val_loss: 0.0269 - val_acc: 0.9972\n",
      "Epoch 8/50\n",
      "4279/4279 [==============================] - ETA: 0s - loss: 0.0277 - acc: 0.9970\n",
      "Epoch 00008: val_loss did not improve from 0.02534\n",
      "4279/4279 [==============================] - 73s 17ms/sample - loss: 0.0277 - acc: 0.9970 - val_loss: 0.0288 - val_acc: 0.9972\n",
      "Epoch 9/50\n",
      "4279/4279 [==============================] - ETA: 0s - loss: 0.0249 - acc: 0.9988\n",
      "Epoch 00009: val_loss did not improve from 0.02534\n",
      "4279/4279 [==============================] - 73s 17ms/sample - loss: 0.0249 - acc: 0.9988 - val_loss: 0.0296 - val_acc: 0.9972\n",
      "Epoch 10/50\n",
      "4279/4279 [==============================] - ETA: 0s - loss: 0.0245 - acc: 0.9988\n",
      "Epoch 00010: val_loss did not improve from 0.02534\n",
      "4279/4279 [==============================] - 73s 17ms/sample - loss: 0.0245 - acc: 0.9988 - val_loss: 0.0302 - val_acc: 0.9963\n",
      "Epoch 11/50\n",
      "4279/4279 [==============================] - ETA: 0s - loss: 0.0234 - acc: 0.9993\n",
      "Epoch 00011: val_loss did not improve from 0.02534\n",
      "4279/4279 [==============================] - 73s 17ms/sample - loss: 0.0234 - acc: 0.9993 - val_loss: 0.0292 - val_acc: 0.9963\n",
      "Epoch 12/50\n",
      "4279/4279 [==============================] - ETA: 0s - loss: 0.0228 - acc: 0.9984\n",
      "Epoch 00012: val_loss did not improve from 0.02534\n",
      "4279/4279 [==============================] - 73s 17ms/sample - loss: 0.0228 - acc: 0.9984 - val_loss: 0.0291 - val_acc: 0.9963\n",
      "Epoch 13/50\n",
      "4279/4279 [==============================] - ETA: 0s - loss: 0.0220 - acc: 0.9981\n",
      "Epoch 00013: val_loss did not improve from 0.02534\n",
      "4279/4279 [==============================] - 73s 17ms/sample - loss: 0.0220 - acc: 0.9981 - val_loss: 0.0303 - val_acc: 0.9963\n",
      "Epoch 14/50\n",
      "4279/4279 [==============================] - ETA: 0s - loss: 0.0221 - acc: 0.9995\n",
      "Epoch 00014: val_loss did not improve from 0.02534\n",
      "4279/4279 [==============================] - 73s 17ms/sample - loss: 0.0221 - acc: 0.9995 - val_loss: 0.0292 - val_acc: 0.9953\n",
      "Epoch 15/50\n",
      "4279/4279 [==============================] - ETA: 0s - loss: 0.0204 - acc: 0.9991\n",
      "Epoch 00015: val_loss did not improve from 0.02534\n",
      "4279/4279 [==============================] - 73s 17ms/sample - loss: 0.0204 - acc: 0.9991 - val_loss: 0.0281 - val_acc: 0.9963\n",
      "Epoch 16/50\n",
      "4279/4279 [==============================] - ETA: 0s - loss: 0.0192 - acc: 0.9993\n",
      "Epoch 00016: val_loss did not improve from 0.02534\n",
      "4279/4279 [==============================] - 73s 17ms/sample - loss: 0.0192 - acc: 0.9993 - val_loss: 0.0285 - val_acc: 0.9953\n",
      "Epoch 17/50\n",
      "4279/4279 [==============================] - ETA: 0s - loss: 0.0191 - acc: 0.9995\n",
      "Epoch 00017: val_loss did not improve from 0.02534\n",
      "Restoring model weights from the end of the best epoch.\n",
      "4279/4279 [==============================] - 72s 17ms/sample - loss: 0.0191 - acc: 0.9995 - val_loss: 0.0276 - val_acc: 0.9953\n",
      "Epoch 00017: early stopping\n",
      "Mean Accuracy of CV scores: : nan%\n",
      "Standard Deviation of CV scores: +/-: nan%\n"
     ]
    },
    {
     "name": "stderr",
     "output_type": "stream",
     "text": [
      "/usr/local/lib/python3.6/dist-packages/numpy/core/fromnumeric.py:3373: RuntimeWarning: Mean of empty slice.\n",
      "  out=out, **kwargs)\n",
      "/usr/local/lib/python3.6/dist-packages/numpy/core/_methods.py:170: RuntimeWarning: invalid value encountered in double_scalars\n",
      "  ret = ret.dtype.type(ret / rcount)\n",
      "/usr/local/lib/python3.6/dist-packages/numpy/core/_methods.py:234: RuntimeWarning: Degrees of freedom <= 0 for slice\n",
      "  keepdims=keepdims)\n",
      "/usr/local/lib/python3.6/dist-packages/numpy/core/_methods.py:195: RuntimeWarning: invalid value encountered in true_divide\n",
      "  arrmean, rcount, out=arrmean, casting='unsafe', subok=False)\n",
      "/usr/local/lib/python3.6/dist-packages/numpy/core/_methods.py:226: RuntimeWarning: invalid value encountered in double_scalars\n",
      "  ret = ret.dtype.type(ret / rcount)\n"
     ]
    },
    {
     "name": "stdout",
     "output_type": "stream",
     "text": [
      "\n",
      "\n",
      "================================\n",
      "\n",
      "\n",
      "Loss on Test Set: 0.11077607942397817\n",
      "Accuracy on Test Set: 98.52 %\n",
      "\n",
      "\n",
      "================================\n",
      "\n",
      "\n"
     ]
    }
   ],
   "source": [
    "epochs=50\n",
    "k = 5\n",
    "kfold = KFold(n_splits=k, shuffle=True, random_state=42)\n",
    "historieskv = []\n",
    "Fold = 1\n",
    "for train, val in kfold.split(x_train, y_train):\n",
    "    gc.collect()\n",
    "    #K.clear_session()\n",
    "    \n",
    "    X_train = x_train[train]\n",
    "    X_val = x_train[val]\n",
    "    \n",
    "    Y_train = y_train[train]\n",
    "    Y_val = y_train[val]\n",
    "     \n",
    "    print(\"=========================================\")\n",
    "    print(\"====== K Fold Validation step => %d/%d =======\" % (Fold,k))\n",
    "    print(\"=========================================\")\n",
    "\n",
    "    historykv=model.fit(X_train, Y_train, \n",
    "              validation_data=(X_val, Y_val),\n",
    "              epochs=epochs, batch_size = 64,\n",
    "              callbacks=callback_list,verbose=1)\n",
    "    historieskv.append(historykv)\n",
    "    \n",
    "    Fold = Fold +1\n",
    "\n",
    "print(\"%s: %.2f%%\" % (\"Mean Accuracy of CV scores: \",np.mean(cvscores)))\n",
    "print(\"%s: %.2f%%\" % (\"Standard Deviation of CV scores: +/-\", np.std(cvscores)))\n",
    "\n",
    "loss_test, acc_test = model.evaluate(x_test, y_test)\n",
    "\n",
    "print (\"\\n\\n================================\\n\\n\")\n",
    "print (\"Loss on Test Set: {}\".format(loss_test))\n",
    "print (\"Accuracy on Test Set: {0:.2f} %\".format(acc_test * 100))\n",
    "print (\"\\n\\n================================\\n\\n\")"
   ]
  },
  {
   "cell_type": "code",
   "execution_count": 308,
   "metadata": {
    "id": "aSRl9vrUrdgO"
   },
   "outputs": [],
   "source": [
    "def dummy_to_label(y_testing):\n",
    "    y_test_actual = []\n",
    "    for i in y_testing:\n",
    "        y_test_actual.append(np.where(i==1)[0][0])\n",
    "    y_testing = y_test_actual \n",
    "    return y_testing\n",
    "    "
   ]
  },
  {
   "cell_type": "code",
   "execution_count": 312,
   "metadata": {
    "id": "tsxInoV9rdgj",
    "outputId": "7d922344-1265-490d-c590-7c9fef6bedd4",
    "scrolled": true
   },
   "outputs": [
    {
     "data": {
      "text/plain": [
       "array([ 8, 55, 32, 10,  9, 47,  4, 37, 33, 49, 42,  1, 37, 27, 37, 14, 19,\n",
       "        0,  6, 13,  2, 48, 26,  9,  2,  6, 24, 25,  3, 52, 22, 23, 11, 13,\n",
       "       39, 37, 11, 48,  7, 43, 32, 38,  0, 30,  1, 16,  0, 50, 19, 15,  7,\n",
       "       28,  0,  0, 47, 11, 21, 38, 10, 65, 22,  7, 34, 16,  1, 44, 37, 45,\n",
       "       13, 11, 41,  4, 42,  1, 24, 14, 36,  5, 19, 38, 14, 48, 57, 37,  0,\n",
       "        5,  5, 40, 36,  5, 20, 10, 43,  4,  2, 18,  0, 53,  6,  5, 10, 52,\n",
       "        1, 29, 43, 29, 15,  0, 34, 15,  4, 42, 46, 15, 25, 24, 48, 53, 46,\n",
       "       17,  3, 48, 21,  0, 27, 11, 36, 30, 49, 34, 44, 31, 53, 46, 43, 66,\n",
       "       11, 40, 15,  3, 49, 61,  1,  5, 15, 33,  0, 20, 53,  6,  0,  0,  2,\n",
       "        9, 48, 54,  0,  8, 14, 58, 12,  0, 47, 19, 12, 10, 32, 53, 42, 39,\n",
       "       14, 38,  2,  0, 12, 12, 28,  3,  6, 48, 45,  8, 44, 23,  3, 13,  0,\n",
       "       42, 11, 23,  5, 34, 49, 42, 63,  5, 20,  6, 34, 51, 41,  4, 45, 25,\n",
       "       30, 18, 17, 10,  9,  4,  7,  4, 63, 16, 21, 12, 18, 61, 28, 42,  2,\n",
       "       16, 34, 20,  4,  2, 54,  1,  1, 13, 34,  1,  5, 63, 50, 21, 43,  6,\n",
       "       18, 23,  2,  3, 24, 12,  4,  0,  1,  0, 31, 35,  7, 24,  8,  1, 42,\n",
       "       52, 13,  5, 49, 22, 16, 30,  2,  6,  0, 11, 25, 11, 15, 20, 71,  2,\n",
       "       13, 20, 46, 47, 53,  7, 46, 49,  7, 27,  2, 10, 22, 54,  0,  2,  5,\n",
       "        6,  6, 28, 29, 14, 23, 43,  9,  6, 40,  1, 42, 38, 26, 37,  1,  2,\n",
       "        7,  4, 42, 14, 36,  3, 21, 42, 21, 13, 23,  1, 13,  7,  3,  6, 38,\n",
       "        0, 15,  2, 28,  1, 48, 38, 76, 36, 14, 54,  7, 50, 12, 37,  3,  8,\n",
       "       30, 45, 31,  4, 14,  5,  5, 15, 44,  2, 10,  1,  0, 42, 30, 51, 35,\n",
       "       20,  0, 40, 21,  7,  0,  3, 45,  0, 46, 40,  5, 52, 42, 40, 24, 11,\n",
       "       20,  0, 23, 27, 23,  0, 43,  1, 19, 21, 13, 21, 24,  7, 42, 53,  4,\n",
       "       14, 15, 35,  8, 19, 11,  6, 15,  7, 40, 15,  0, 21,  5,  4,  1, 13,\n",
       "        2, 23,  7, 38, 31,  4, 15, 46, 27, 42, 48, 43, 52,  5, 42, 20,  4,\n",
       "       43, 43,  9, 11,  0, 22, 40,  0,  7,  0, 16, 46,  0, 12, 33,  1, 83,\n",
       "       22,  5, 48, 14, 41, 50,  9, 15, 48, 40, 40,  1, 18, 12, 23, 36, 10,\n",
       "        2,  4,  7,  0, 42,  8,  1, 18, 47,  1, 14, 22, 48, 48, 45, 50,  4,\n",
       "        0, 27,  6, 66,  0,  6,  8,  4, 11, 30,  6,  2, 52, 38, 27,  0,  3,\n",
       "        0, 19, 44, 21, 48, 60, 34, 10,  0, 48, 47, 52,  0,  5,  7,  3, 45,\n",
       "        1, 19, 15, 24,  5, 15,  6, 34, 36, 44, 30,  6, 50, 35,  8,  5, 47,\n",
       "       53,  7, 52, 17,  6, 22, 36,  3,  4,  0, 26, 56,  5,  7, 26,  0,  3,\n",
       "        8,  2,  8,  0, 16,  4, 28, 11, 14, 68,  3, 21,  0, 42, 48, 43, 26,\n",
       "       13, 26, 45, 43,  0,  0, 40, 11, 12, 46, 13, 37,  0, 10,  4, 58, 14,\n",
       "        2, 26, 24, 31,  0,  6, 31,  3,  1, 45,  1, 51, 29, 29, 12, 34, 47,\n",
       "       35,  9, 15, 38,  2, 63,  2,  5,  0, 46, 36, 18, 16,  0, 10, 53, 23,\n",
       "        6, 12, 25, 46, 48, 43, 30,  9,  5, 39,  1, 16,  7, 12, 43, 22, 22,\n",
       "       41, 42,  4, 21,  5, 43, 51,  3, 19, 15, 21, 22, 17, 50, 14, 52,  5,\n",
       "        1, 36,  9, 11,  9, 44, 21,  0, 42,  0,  2, 28, 20, 12, 21, 11,  2,\n",
       "        3, 40, 49, 15, 14, 31, 18, 16, 12, 21, 23, 52, 10,  9,  3,  2, 46,\n",
       "       18, 23, 48, 51, 65,  5, 20, 29, 33,  7, 21, 15,  8, 67,  2,  5,  9,\n",
       "       37,  5, 25, 38, 42,  0, 23,  2,  5, 31,  3, 37, 46,  6, 15, 26, 16,\n",
       "        7, 20, 49, 69, 24, 50, 16,  2,  1, 46,  8,  3,  4, 26, 22,  5,  5,\n",
       "        4, 44, 15,  8, 46, 31,  0,  1, 28, 11,  5, 83, 29, 70, 40,  8,  1,\n",
       "        1, 11, 26,  0, 10,  7, 34, 11, 45, 13, 19, 41, 53,  7, 52, 32, 32,\n",
       "       10, 14, 18,  2, 14, 51,  0, 62, 23, 26,  5, 36, 17, 11, 12, 29, 21,\n",
       "        2, 40, 12, 28, 59, 24, 21, 17, 23, 45, 46, 20, 60,  4, 44, 26, 37,\n",
       "        4,  2, 44, 18, 42,  1, 37,  0, 41, 46,  9,  3, 20, 54,  7,  7, 36,\n",
       "        3, 41,  9,  4, 48,  0, 49, 30,  0, 19, 46, 16,  4, 49, 15, 20, 21,\n",
       "       42, 14, 47,  0, 34, 13, 48, 30, 10, 27,  0, 25, 13, 20, 13, 11,  0,\n",
       "       10, 48, 37, 11, 38, 22, 10, 39, 43,  6, 16, 24,  0,  0, 19, 24, 21,\n",
       "       19, 12,  9, 43, 16, 13, 26,  9, 42, 57, 16, 48, 10, 19,  3,  0, 53,\n",
       "       50,  3, 47,  0,  4,  4, 29, 26,  0,  5,  7, 15,  7, 44,  9, 36,  0,\n",
       "        2, 33,  0, 48, 43, 11,  4, 48,  2,  0, 44, 42,  6, 47,  9, 30,  9,\n",
       "       17, 20, 56,  2,  3, 23, 16,  8,  3, 19, 48,  7, 40,  2, 53, 48, 14,\n",
       "        2, 42,  3, 45,  1, 49, 19, 28, 34])"
      ]
     },
     "execution_count": 312,
     "metadata": {},
     "output_type": "execute_result"
    }
   ],
   "source": [
    "y_pred = model.predict(x_test)\n",
    "y_pred = np.argmax(y_pred,axis=1)\n",
    "y_pred"
   ]
  },
  {
   "cell_type": "code",
   "execution_count": 315,
   "metadata": {
    "id": "I-HVk-7Hrdgk"
   },
   "outputs": [],
   "source": [
    "y_test_save = dummy_to_label(y_test)\n",
    "y_pred_save = y_pred\n",
    "y_test_numeric = dummy_to_label(y_test)"
   ]
  },
  {
   "cell_type": "code",
   "execution_count": 317,
   "metadata": {
    "id": "BGilkp2Crdg7"
   },
   "outputs": [],
   "source": [
    "from sklearn.metrics import classification_report\n",
    "from sklearn.metrics import confusion_matrix\n",
    "import itertools\n",
    "\n",
    "def plot_confusion_matrix(cm, classes,\n",
    "                          normalize=False,\n",
    "                          cmap=plt.cm.Blues):\n",
    "    \"\"\"\n",
    "    This function prints and plots the confusion matrix.\n",
    "    Normalization can be applied by setting `normalize=True`.\n",
    "    \"\"\"\n",
    "    if normalize:\n",
    "        cm = cm.astype('float') / cm.sum(axis=1)[:, np.newaxis]\n",
    "        title='Normalized confusion matrix of VGG16(5fold CV) on Kazakh Letters'\n",
    "    else:\n",
    "        title='Confusion matrix of VGG16(5fold CV) on Kazakh Letters'\n",
    "\n",
    "    plt.imshow(cm, interpolation='nearest', cmap=cmap)\n",
    "    plt.title(title)\n",
    "    plt.colorbar()\n",
    "    tick_marks = np.arange(len(classes))\n",
    "    plt.xticks(tick_marks, classes, rotation=45)\n",
    "    plt.yticks(tick_marks, classes)\n",
    "\n",
    "    fmt = '.2f' if normalize else 'd'\n",
    "    thresh = cm.max() / 2.\n",
    "    for i, j in itertools.product(range(cm.shape[0]), range(cm.shape[1])):\n",
    "        plt.text(j, i, format(cm[i, j], fmt),\n",
    "                 horizontalalignment=\"center\",\n",
    "                 color=\"white\" if cm[i, j] > thresh else \"black\")\n",
    "\n",
    "    plt.tight_layout()\n",
    "    plt.ylabel('True label')\n",
    "    plt.xlabel('Predicted label')\n",
    "    plt.figure().savefig('Confusion matrix of classes Kazakh Letters(VGG16).png')\n",
    "    plt.show()"
   ]
  },
  {
   "cell_type": "code",
   "execution_count": 318,
   "metadata": {
    "id": "ApSNeNngrdg7"
   },
   "outputs": [],
   "source": [
    "import matplotlib.pyplot as plt\n",
    "import numpy as np\n",
    "\n",
    "def show_values(pc, fmt=\"%.2f\", **kw):\n",
    "    '''\n",
    "    Heatmap with text in each cell with matplotlib's pyplot\n",
    "    Source: https://stackoverflow.com/a/25074150/395857 \n",
    "    By HYRY\n",
    "    '''\n",
    "    pc.update_scalarmappable()\n",
    "    ax = pc.axes\n",
    "    #ax = pc.axes# FOR LATEST MATPLOTLIB\n",
    "    #Use zip BELOW IN PYTHON 3\n",
    "    for p, color, value in zip(pc.get_paths(), pc.get_facecolors(), pc.get_array()):\n",
    "        x, y = p.vertices[:-2, :].mean(0)\n",
    "        if np.all(color[:3] > 0.5):\n",
    "            color = (0.0, 0.0, 0.0)\n",
    "        else:\n",
    "            color = (1.0, 1.0, 1.0)\n",
    "        ax.text(x, y, fmt % value, ha=\"center\", va=\"center\", color=color, **kw)\n",
    "\n",
    "\n",
    "def cm2inch(*tupl):\n",
    "    '''\n",
    "    Specify figure size in centimeter in matplotlib\n",
    "    Source: https://stackoverflow.com/a/22787457/395857\n",
    "    By gns-ank\n",
    "    '''\n",
    "    inch = 2.54\n",
    "    if type(tupl[0]) == tuple:\n",
    "        return tuple(i/inch for i in tupl[0])\n",
    "    else:\n",
    "        return tuple(i/inch for i in tupl)\n",
    "\n",
    "\n",
    "def heatmap(AUC, title, xlabel, ylabel, xticklabels, yticklabels, figure_width=40, figure_height=20, correct_orientation=False, cmap='RdBu'):\n",
    "    '''\n",
    "    Inspired by:\n",
    "    - https://stackoverflow.com/a/16124677/395857 \n",
    "    - https://stackoverflow.com/a/25074150/395857\n",
    "    '''\n",
    "\n",
    "    # Plot it out\n",
    "    fig, ax = plt.subplots()    \n",
    "    #c = ax.pcolor(AUC, edgecolors='k', linestyle= 'dashed', linewidths=0.2, cmap='RdBu', vmin=0.0, vmax=1.0)\n",
    "    c = ax.pcolor(AUC, edgecolors='k', linestyle= 'dashed', linewidths=0.2, cmap=cmap, vmin=0.0, vmax=1.0)\n",
    "\n",
    "    # put the major ticks at the middle of each cell\n",
    "    ax.set_yticks(np.arange(AUC.shape[0]) + 0.5, minor=False)\n",
    "    ax.set_xticks(np.arange(AUC.shape[1]) + 0.5, minor=False)\n",
    "\n",
    "    # set tick labels\n",
    "    #ax.set_xticklabels(np.arange(1,AUC.shape[1]+1), minor=False)\n",
    "    ax.set_xticklabels(xticklabels, minor=False)\n",
    "    ax.set_yticklabels(yticklabels, minor=False)\n",
    "\n",
    "    # set title and x/y labels\n",
    "    plt.title(title, y=1.25)\n",
    "    plt.xlabel(xlabel)\n",
    "    plt.ylabel(ylabel)      \n",
    "\n",
    "    # Remove last blank column\n",
    "    plt.xlim( (0, AUC.shape[1]) )\n",
    "\n",
    "    # Turn off all the ticks\n",
    "    ax = plt.gca()    \n",
    "    for t in ax.xaxis.get_major_ticks():\n",
    "        t.tick1line.set_visible(False)\n",
    "        t.tick2line.set_visible(False)\n",
    "    for t in ax.yaxis.get_major_ticks():\n",
    "        t.tick1line.set_visible(False)\n",
    "        t.tick2line.set_visible(False)\n",
    "\n",
    "    # Add color bar\n",
    "    plt.colorbar(c)\n",
    "\n",
    "    # Add text in each cell \n",
    "    show_values(c)\n",
    "\n",
    "    # Proper orientation (origin at the top left instead of bottom left)\n",
    "    if correct_orientation:\n",
    "        ax.invert_yaxis()\n",
    "        ax.xaxis.tick_top()       \n",
    "\n",
    "    # resize \n",
    "    fig = plt.gcf()\n",
    "    #fig.set_size_inches(cm2inch(40, 20))\n",
    "    #fig.set_size_inches(cm2inch(40*4, 20*4))\n",
    "    fig.set_size_inches(cm2inch(figure_width, figure_height))\n",
    "\n",
    "\n",
    "\n",
    "def plot_classification_report(classification_report, number_of_classes, title='Classification report ', cmap='RdYlGn'):\n",
    "    '''\n",
    "    Plot scikit-learn classification report.\n",
    "    Extension based on https://stackoverflow.com/a/31689645/395857 \n",
    "    '''\n",
    "    lines = classification_report.split('\\n')\n",
    "\n",
    "    #drop initial lines\n",
    "    lines = lines[2:]\n",
    "\n",
    "    classes = []\n",
    "    plotMat = []\n",
    "    support = []\n",
    "    class_names = []\n",
    "    for line in lines[: number_of_classes]:\n",
    "        t = list(filter(None, line.strip().split('  ')))\n",
    "        if len(t) < 4: continue\n",
    "        classes.append(t[0])\n",
    "        v = [float(x) for x in t[1: len(t) - 1]]\n",
    "        support.append(int(t[-1]))\n",
    "        class_names.append(t[0])\n",
    "        plotMat.append(v)\n",
    "\n",
    "\n",
    "    xlabel = 'Metrics'\n",
    "    ylabel = 'Classes'\n",
    "    xticklabels = ['Precision', 'Recall', 'F1-score']\n",
    "    yticklabels = ['{0} ({1})'.format(class_names[idx], sup) for idx, sup  in enumerate(support)]\n",
    "    figure_width = 12\n",
    "    figure_height = len(class_names) + 5\n",
    "    correct_orientation = True\n",
    "    heatmap(np.array(plotMat), title, xlabel, ylabel, xticklabels, yticklabels, figure_width, figure_height, correct_orientation, cmap=cmap)\n",
    "    plt.show()\n"
   ]
  },
  {
   "cell_type": "code",
   "execution_count": 320,
   "metadata": {
    "id": "-25UJohCrdg8",
    "outputId": "dd789b45-f6dd-469d-a92c-9e8af90ecc54",
    "scrolled": false
   },
   "outputs": [
    {
     "name": "stderr",
     "output_type": "stream",
     "text": [
      "/usr/local/lib/python3.6/dist-packages/sklearn/metrics/_classification.py:1248: UndefinedMetricWarning: Precision and F-score are ill-defined and being set to 0.0 in labels with no predicted samples. Use `zero_division` parameter to control this behavior.\n",
      "  _warn_prf(average, modifier, msg_start, len(result))\n",
      "/usr/local/lib/python3.6/dist-packages/sklearn/metrics/_classification.py:1248: UndefinedMetricWarning: Precision and F-score are ill-defined and being set to 0.0 in labels with no predicted samples. Use `zero_division` parameter to control this behavior.\n",
      "  _warn_prf(average, modifier, msg_start, len(result))\n",
      "/usr/local/lib/python3.6/dist-packages/sklearn/metrics/_classification.py:1248: UndefinedMetricWarning: Precision and F-score are ill-defined and being set to 0.0 in labels with no predicted samples. Use `zero_division` parameter to control this behavior.\n",
      "  _warn_prf(average, modifier, msg_start, len(result))\n"
     ]
    },
    {
     "data": {
      "text/plain": [
       "<Figure size 864x720 with 0 Axes>"
      ]
     },
     "metadata": {},
     "output_type": "display_data"
    },
    {
     "data": {
      "image/png": "[encoded data removed]",
      "text/plain": [
       "<Figure size 340.157x2324.41 with 2 Axes>"
      ]
     },
     "metadata": {
      "needs_background": "light"
     },
     "output_type": "display_data"
    },
    {
     "data": {
      "text/plain": [
       "<Figure size 432x288 with 0 Axes>"
      ]
     },
     "metadata": {},
     "output_type": "display_data"
    }
   ],
   "source": [
    "plt.figure(figsize = (12,10))\n",
    "plot_classification_report(classification_report(y_test_numeric, y_pred), 84, title='Classification report ', cmap='RdYlGn')\n",
    "plt.figure().savefig('Classification report of VGG16 on Kazakh Letters.png')"
   ]
  },
  {
   "cell_type": "code",
   "execution_count": 321,
   "metadata": {
    "id": "HQdDgpaVrdg8"
   },
   "outputs": [],
   "source": [
    "from sklearn.metrics import matthews_corrcoef\n",
    "from sklearn import metrics as m\n",
    "def overall_result(y_, y_predicted):\n",
    "# save confusion matrix and slice into four pieces\n",
    "\n",
    "    cnf_matrix = confusion_matrix(y_, y_predicted)\n",
    "    \n",
    "    \n",
    "    FP = cnf_matrix.sum(axis=0) - np.diag(cnf_matrix)  \n",
    "    FN = cnf_matrix.sum(axis=1) - np.diag(cnf_matrix)\n",
    "    TP = np.diag(cnf_matrix)\n",
    "    TN = cnf_matrix.sum() - (FP + FN + TP)\n",
    "\n",
    "    FP = FP.astype(float)\n",
    "    FN = FN.astype(float)\n",
    "    TP = TP.astype(float)\n",
    "    TN = TN.astype(float)\n",
    "    \n",
    "\n",
    "    # calculate accuracy\n",
    "    conf_accuracy = m.accuracy_score(y_, y_predicted)\n",
    "\n",
    "    # calculate mis-classification\n",
    "    conf_misclassification = 1- conf_accuracy\n",
    "\n",
    "    # calculate the sensitivity\n",
    "    conf_sensitivity = (TP / (TP + FN))\n",
    "    conf_sensitivity = np.mean(conf_sensitivity)\n",
    "    \n",
    "    # calculate the specificity\n",
    "    conf_specificity = (TN / (TN + FP))\n",
    "    conf_specificity = np.mean(conf_specificity)\n",
    "\n",
    "    # calculate precision\n",
    "    conf_precision = (TP / (TP + FP))\n",
    "    conf_precision = np.nan_to_num(conf_precision)\n",
    "    conf_precision = np.mean(conf_precision)\n",
    "    \n",
    "    # calculate f_1 score\n",
    "    conf_f1 = 2 * ((conf_precision * conf_sensitivity) / (conf_precision + conf_sensitivity))\n",
    "\n",
    "    result_s = {}\n",
    "    result_s['Accuracy']           = [round(conf_accuracy,2)]\n",
    "    result_s['Mis-Classification'] = [round(conf_misclassification,2)]\n",
    "    result_s['Sensitivity']        = [round(conf_sensitivity,2)]\n",
    "    result_s['Specificity']        = [round(conf_specificity,2)]\n",
    "    result_s['Precision']          = [round(conf_precision,2)]\n",
    "    result_s['F1 Score']           = [round(conf_f1,2)]\n",
    "    result_s['MCC']                = [round(matthews_corrcoef(y_, y_predicted),2)]\n",
    "\n",
    "\n",
    "    df_result           = pd.DataFrame(result_s)\n",
    "    \n",
    "    return df_result"
   ]
  },
  {
   "cell_type": "code",
   "execution_count": 331,
   "metadata": {
    "id": "9Zpq5-Vqrdg9",
    "outputId": "b8491fdb-a499-4b69-8724-6d44451c85ec"
   },
   "outputs": [
    {
     "data": {
      "image/png": "[encoded data removed]",
      "text/plain": [
       "<Figure size 576x432 with 1 Axes>"
      ]
     },
     "metadata": {
      "needs_background": "light"
     },
     "output_type": "display_data"
    }
   ],
   "source": [
    "fig1 = plt.figure(figsize = (8,6))\n",
    "plt.plot([j for i in historieskv for j in i.history['loss']],'r',linewidth=3.0)\n",
    "plt.plot([j for i in historieskv for j in i.history['val_loss']],'b',linewidth=3.0)\n",
    "plt.legend(['Training loss', 'Validation Loss'],fontsize=18)\n",
    "plt.xlabel('Epochs ',fontsize=16)\n",
    "plt.ylabel('Loss',fontsize=16)\n",
    "plt.title(f'Loss Curves : VGG16(5fold CV) on Kazakh Letters',fontsize=12)\n",
    "fig1.savefig('loss_VGG16_on_Kazakh_letters.png')\n",
    "plt.show()"
   ]
  },
  {
   "cell_type": "code",
   "execution_count": 337,
   "metadata": {
    "id": "BYI224IVrdg9",
    "outputId": "03b121e1-3466-4658-abb0-114321c1a2f2"
   },
   "outputs": [
    {
     "data": {
      "image/png": "[encoded data removed]",
      "text/plain": [
       "<Figure size 576x432 with 1 Axes>"
      ]
     },
     "metadata": {
      "needs_background": "light"
     },
     "output_type": "display_data"
    }
   ],
   "source": [
    "fig2=plt.figure(figsize = (8,6))\n",
    "plt.plot([j for i in historieskv for j in i.history['acc']],'r',linewidth=3.0)\n",
    "plt.plot([j for i in historieskv for j in i.history['val_acc']],'b',linewidth=3.0)\n",
    "plt.legend(['Training Accuracy', 'Validation Accuracy'],fontsize=18)\n",
    "plt.xlabel('Epochs ',fontsize=16)\n",
    "plt.ylabel('Accuracy',fontsize=16)\n",
    "plt.title(f'Accuracy Curves : VGG16(5fold CV) on Kazakh Letters',fontsize=12)\n",
    "fig2.savefig('accuracy_VGG16_on_Kazakh_letters.png')\n",
    "plt.show()"
   ]
  },
  {
   "cell_type": "code",
   "execution_count": 332,
   "metadata": {
    "id": "YxfDDoodrdg9",
    "outputId": "ca49bdb1-3964-47aa-caf8-adf6d7886eda"
   },
   "outputs": [
    {
     "name": "stderr",
     "output_type": "stream",
     "text": [
      "/usr/local/lib/python3.6/dist-packages/ipykernel_launcher.py:35: RuntimeWarning: invalid value encountered in true_divide\n"
     ]
    },
    {
     "data": {
      "text/html": [
       "<div>\n",
       "<style scoped>\n",
       "    .dataframe tbody tr th:only-of-type {\n",
       "        vertical-align: middle;\n",
       "    }\n",
       "\n",
       "    .dataframe tbody tr th {\n",
       "        vertical-align: top;\n",
       "    }\n",
       "\n",
       "    .dataframe thead th {\n",
       "        text-align: right;\n",
       "    }\n",
       "</style>\n",
       "<table border=\"1\" class=\"dataframe\">\n",
       "  <thead>\n",
       "    <tr style=\"text-align: right;\">\n",
       "      <th></th>\n",
       "      <th>Accuracy</th>\n",
       "      <th>Mis-Classification</th>\n",
       "      <th>Sensitivity</th>\n",
       "      <th>Specificity</th>\n",
       "      <th>Precision</th>\n",
       "      <th>F1 Score</th>\n",
       "      <th>MCC</th>\n",
       "    </tr>\n",
       "  </thead>\n",
       "  <tbody>\n",
       "    <tr>\n",
       "      <th>0</th>\n",
       "      <td>0.99</td>\n",
       "      <td>0.01</td>\n",
       "      <td>0.94</td>\n",
       "      <td>1.0</td>\n",
       "      <td>0.96</td>\n",
       "      <td>0.95</td>\n",
       "      <td>0.98</td>\n",
       "    </tr>\n",
       "  </tbody>\n",
       "</table>\n",
       "</div>"
      ],
      "text/plain": [
       "   Accuracy  Mis-Classification  Sensitivity  Specificity  Precision  \\\n",
       "0      0.99                0.01         0.94          1.0       0.96   \n",
       "\n",
       "   F1 Score   MCC  \n",
       "0      0.95  0.98  "
      ]
     },
     "execution_count": 332,
     "metadata": {},
     "output_type": "execute_result"
    }
   ],
   "source": [
    "y_pred = model.predict(x_test)\n",
    "y_pred = np.argmax(y_pred,axis=1)\n",
    "overall_result(y_test_numeric, y_pred)"
   ]
  },
  {
   "cell_type": "code",
   "execution_count": 334,
   "metadata": {
    "id": "vlivCuldrdg-",
    "outputId": "fba21390-5cf4-47c0-84cd-f43dbe149a1e"
   },
   "outputs": [
    {
     "data": {
      "image/png": "[encoded data removed]",
      "text/plain": [
       "<Figure size 576x432 with 2 Axes>"
      ]
     },
     "metadata": {
      "needs_background": "light"
     },
     "output_type": "display_data"
    },
    {
     "data": {
      "text/plain": [
       "<Figure size 432x288 with 0 Axes>"
      ]
     },
     "metadata": {},
     "output_type": "display_data"
    }
   ],
   "source": [
    "plt.figure(figsize = (8,6))\n",
    "plot_confusion_matrix(confusion_matrix(y_test_numeric, y_pred), np.arange(84),\n",
    "                          normalize=False,\n",
    "                          cmap=plt.cm.Blues)\n"
   ]
  },
  {
   "cell_type": "code",
   "execution_count": 338,
   "metadata": {
    "id": "C0o--KBHrdg-"
   },
   "outputs": [],
   "source": [
    "y_pred=to_categorical(np.asarray(y_pred))"
   ]
  },
  {
   "cell_type": "code",
   "execution_count": 339,
   "metadata": {
    "id": "xOQ_uBHBrdg-",
    "outputId": "c370cab2-29b6-4422-9a51-2f023974e3cd"
   },
   "outputs": [
    {
     "data": {
      "text/plain": [
       "array([[0., 0., 0., ..., 0., 0., 0.],\n",
       "       [0., 0., 0., ..., 0., 0., 0.],\n",
       "       [0., 0., 0., ..., 0., 0., 0.],\n",
       "       ...,\n",
       "       [0., 0., 0., ..., 0., 0., 0.],\n",
       "       [0., 0., 0., ..., 0., 0., 0.],\n",
       "       [0., 0., 0., ..., 0., 0., 0.]], dtype=float32)"
      ]
     },
     "execution_count": 339,
     "metadata": {},
     "output_type": "execute_result"
    }
   ],
   "source": [
    "y_pred"
   ]
  },
  {
   "cell_type": "code",
   "execution_count": 340,
   "metadata": {
    "id": "Ro1PpiDurdg-",
    "outputId": "9b34dadc-396f-4fcd-dfcf-8eca81ef5d79"
   },
   "outputs": [
    {
     "data": {
      "image/png": "[encoded data removed]",
      "text/plain": [
       "<Figure size 432x288 with 1 Axes>"
      ]
     },
     "metadata": {
      "needs_background": "light"
     },
     "output_type": "display_data"
    }
   ],
   "source": [
    "from itertools import cycle\n",
    "from sklearn.metrics import roc_curve, auc\n",
    "n_classes=84\n",
    "# Plot linewidth.\n",
    "lw = 2\n",
    "\n",
    "# Compute ROC curve and ROC area for each class\n",
    "fpr = dict()\n",
    "tpr = dict()\n",
    "roc_auc = dict()\n",
    "for i in range(n_classes):\n",
    "    fpr[i], tpr[i], _ = roc_curve(y_test[:, i], y_pred[:, i])\n",
    "    roc_auc[i] = auc(fpr[i], tpr[i])\n",
    "\n",
    "# Compute micro-average ROC curve and ROC area\n",
    "fpr[\"micro\"], tpr[\"micro\"], _ = roc_curve(y_test.ravel(), y_pred.ravel())\n",
    "roc_auc[\"micro\"] = auc(fpr[\"micro\"], tpr[\"micro\"])\n",
    "\n",
    "# Compute macro-average ROC curve and ROC area\n",
    "\n",
    "# First aggregate all false positive rates\n",
    "all_fpr = np.unique(np.concatenate([fpr[i] for i in range(n_classes)]))\n",
    "\n",
    "# Then interpolate all ROC curves at this points\n",
    "mean_tpr = np.zeros_like(all_fpr)\n",
    "for i in range(n_classes):\n",
    "    mean_tpr += np.interp(all_fpr, fpr[i], tpr[i])\n",
    "\n",
    "# Finally average it and compute AUC\n",
    "mean_tpr /= n_classes\n",
    "\n",
    "fpr[\"macro\"] = all_fpr\n",
    "tpr[\"macro\"] = mean_tpr\n",
    "roc_auc[\"macro\"] = auc(fpr[\"macro\"], tpr[\"macro\"])\n",
    "\n",
    "# Plot all ROC curves\n",
    "plt.figure(1)\n",
    "plt.plot(fpr[\"micro\"], tpr[\"micro\"],\n",
    "         label='micro-average ROC curve (area = {0:0.2f})'\n",
    "               ''.format(roc_auc[\"micro\"]),\n",
    "         color='deeppink', linestyle=':', linewidth=4)\n",
    "\n",
    "plt.plot(fpr[\"macro\"], tpr[\"macro\"],\n",
    "         label='macro-average ROC curve (area = {0:0.2f})'\n",
    "               ''.format(roc_auc[\"macro\"]),\n",
    "         color='navy', linestyle=':', linewidth=4)\n",
    "\n",
    "colors = cycle(['aqua', 'darkorange', 'cornflowerblue'])\n",
    "\n",
    "plt.plot([0, 1], [0, 1], 'k--', lw=lw)\n",
    "plt.xlim([0.0, 1.0])\n",
    "plt.ylim([0.0, 1.05])\n",
    "plt.xlabel('False Positive Rate')\n",
    "plt.ylabel('True Positive Rate')\n",
    "plt.title('ROC curve of VGG16 classifier on Kvasir Dataset')\n",
    "plt.legend(loc=\"lower right\")\n",
    "plt.show()"
   ]
  },
  {
   "cell_type": "markdown",
   "metadata": {
    "id": "E9FqM_fgrdg_"
   },
   "source": [
    "     "
   ]
  },
  {
   "cell_type": "markdown",
   "metadata": {
    "id": "OaIYgesQrdg_"
   },
   "source": [
    "       "
   ]
  },
  {
   "cell_type": "markdown",
   "metadata": {
    "id": "83B4JWivrdg_"
   },
   "source": [
    "    "
   ]
  },
  {
   "cell_type": "markdown",
   "metadata": {
    "id": "PDg-2ts0rdg_"
   },
   "source": [
    "          "
   ]
  },
  {
   "cell_type": "markdown",
   "metadata": {
    "id": "uaqHf56hrdg_"
   },
   "source": [
    "      "
   ]
  },
  {
   "cell_type": "code",
   "execution_count": null,
   "metadata": {
    "id": "7KuDd_vFrdhG"
   },
   "outputs": [],
   "source": []
  }
 ],
 "metadata": {
  "accelerator": "GPU",
  "colab": {
   "name": "Kazakh letters classification.ipynb",
   "provenance": []
  },
  "kernelspec": {
   "display_name": "Python 3 (ipykernel)",
   "language": "python",
   "name": "python3"
  },
  "language_info": {
   "codemirror_mode": {
    "name": "ipython",
    "version": 3
   },
   "file_extension": ".py",
   "mimetype": "text/x-python",
   "name": "python",
   "nbconvert_exporter": "python",
   "pygments_lexer": "ipython3",
   "version": "3.9.7"
  }
 },
 "nbformat": 4,
 "nbformat_minor": 1
}
